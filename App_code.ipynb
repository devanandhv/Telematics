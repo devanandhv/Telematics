{
 "cells": [
  {
   "cell_type": "code",
   "execution_count": 1,
   "metadata": {
    "ExecuteTime": {
     "end_time": "2020-07-09T16:36:12.231718Z",
     "start_time": "2020-07-09T16:35:50.533501Z"
    },
    "code_folding": [
     0
    ]
   },
   "outputs": [],
   "source": [
    "# Basic libraries import\n",
    "import pandas as pd\n",
    "import numpy as np\n",
    "import seaborn as sns\n",
    "import matplotlib.pyplot as plt\n",
    "%matplotlib tk"
   ]
  },
  {
   "cell_type": "code",
   "execution_count": 2,
   "metadata": {
    "ExecuteTime": {
     "end_time": "2020-07-09T16:36:12.241745Z",
     "start_time": "2020-07-09T16:36:12.234725Z"
    },
    "code_folding": [
     0
    ]
   },
   "outputs": [],
   "source": [
    "# tkinter GUI import\n",
    "import tkinter as tk1\n",
    "from tkinter.filedialog import askopenfilename"
   ]
  },
  {
   "cell_type": "code",
   "execution_count": 3,
   "metadata": {
    "ExecuteTime": {
     "end_time": "2020-07-09T16:36:14.225165Z",
     "start_time": "2020-07-09T16:36:14.221773Z"
    },
    "code_folding": [
     0
    ]
   },
   "outputs": [],
   "source": [
    "# Debugger import library if required\n",
    "from IPython.core.debugger import set_trace"
   ]
  },
  {
   "cell_type": "code",
   "execution_count": 4,
   "metadata": {
    "ExecuteTime": {
     "end_time": "2020-07-09T16:36:48.286449Z",
     "start_time": "2020-07-09T16:36:14.304374Z"
    }
   },
   "outputs": [],
   "source": [
    "# Import filename interactively\n",
    "root = tk1.Tk()\n",
    "root.lift()\n",
    "root.attributes(\"-topmost\", True)\n",
    "root.withdraw()\n",
    "filename = askopenfilename()\n",
    "root.destroy()"
   ]
  },
  {
   "cell_type": "code",
   "execution_count": 5,
   "metadata": {
    "ExecuteTime": {
     "end_time": "2020-07-09T16:36:48.347420Z",
     "start_time": "2020-07-09T16:36:48.340401Z"
    }
   },
   "outputs": [
    {
     "data": {
      "text/plain": [
       "'D:/Projects/App/Daily_dump/10062020/MB1A3GCD4KRYD3435_2020-6-10_2020-06-12.csv'"
      ]
     },
     "execution_count": 5,
     "metadata": {},
     "output_type": "execute_result"
    }
   ],
   "source": [
    "filename"
   ]
  },
  {
   "cell_type": "code",
   "execution_count": 44,
   "metadata": {
    "ExecuteTime": {
     "end_time": "2020-07-09T17:05:29.476905Z",
     "start_time": "2020-07-09T17:05:28.924505Z"
    }
   },
   "outputs": [],
   "source": [
    "# Read the raw dataframe and read 'obu_timestamp' column as datetime format\n",
    "data = pd.read_csv(filename,\n",
    "                   parse_dates=['obu_timestamp'])"
   ]
  },
  {
   "cell_type": "code",
   "execution_count": 45,
   "metadata": {
    "ExecuteTime": {
     "end_time": "2020-07-09T17:05:29.537327Z",
     "start_time": "2020-07-09T17:05:29.531811Z"
    }
   },
   "outputs": [],
   "source": [
    "# Add an index column to the created dataframe\n",
    "data.reset_index(level=0, inplace=True)"
   ]
  },
  {
   "cell_type": "code",
   "execution_count": 46,
   "metadata": {
    "ExecuteTime": {
     "end_time": "2020-07-09T17:05:30.150667Z",
     "start_time": "2020-07-09T17:05:29.994714Z"
    }
   },
   "outputs": [
    {
     "name": "stdout",
     "output_type": "stream",
     "text": [
      "<class 'pandas.core.frame.DataFrame'>\n",
      "RangeIndex: 4794 entries, 0 to 4793\n",
      "Columns: 120 entries, index to fuel_level\n",
      "dtypes: datetime64[ns](1), float64(57), int64(58), object(4)\n",
      "memory usage: 4.4+ MB\n"
     ]
    }
   ],
   "source": [
    "# Verify dataframe dtypes and column entries\n",
    "data.info()"
   ]
  },
  {
   "cell_type": "code",
   "execution_count": 47,
   "metadata": {
    "ExecuteTime": {
     "end_time": "2020-07-09T17:05:30.899362Z",
     "start_time": "2020-07-09T17:05:30.860260Z"
    }
   },
   "outputs": [
    {
     "data": {
      "text/html": [
       "<div>\n",
       "<style scoped>\n",
       "    .dataframe tbody tr th:only-of-type {\n",
       "        vertical-align: middle;\n",
       "    }\n",
       "\n",
       "    .dataframe tbody tr th {\n",
       "        vertical-align: top;\n",
       "    }\n",
       "\n",
       "    .dataframe thead th {\n",
       "        text-align: right;\n",
       "    }\n",
       "</style>\n",
       "<table border=\"1\" class=\"dataframe\">\n",
       "  <thead>\n",
       "    <tr style=\"text-align: right;\">\n",
       "      <th></th>\n",
       "      <th>index</th>\n",
       "      <th>S_No</th>\n",
       "      <th>obu_id</th>\n",
       "      <th>obu_timestamp</th>\n",
       "      <th>packet_sequence_id</th>\n",
       "      <th>p_frequency</th>\n",
       "      <th>latitude</th>\n",
       "      <th>longitude</th>\n",
       "      <th>altitude</th>\n",
       "      <th>heading</th>\n",
       "      <th>...</th>\n",
       "      <th>aft1_intake_nox</th>\n",
       "      <th>aft1_intake_nox_reading_stable</th>\n",
       "      <th>aft1_intermediate_gas</th>\n",
       "      <th>dpf1_regen_needed</th>\n",
       "      <th>low_adblue_level_warning</th>\n",
       "      <th>eng_requested_torque_limit</th>\n",
       "      <th>pf_actreginh_dueto</th>\n",
       "      <th>aftertreatment1_outlet_nox</th>\n",
       "      <th>vin</th>\n",
       "      <th>fuel_level</th>\n",
       "    </tr>\n",
       "  </thead>\n",
       "  <tbody>\n",
       "    <tr>\n",
       "      <th>0</th>\n",
       "      <td>0</td>\n",
       "      <td>1</td>\n",
       "      <td>2001221048</td>\n",
       "      <td>2020-06-10 01:15:00</td>\n",
       "      <td>32339</td>\n",
       "      <td>6</td>\n",
       "      <td>29.933541</td>\n",
       "      <td>77.048846</td>\n",
       "      <td>240.69</td>\n",
       "      <td>0.0</td>\n",
       "      <td>...</td>\n",
       "      <td>0.0</td>\n",
       "      <td>3</td>\n",
       "      <td>0.1</td>\n",
       "      <td>0</td>\n",
       "      <td>0</td>\n",
       "      <td>-125</td>\n",
       "      <td>0</td>\n",
       "      <td>0.0</td>\n",
       "      <td>MB1A3GCD4KRYD3435</td>\n",
       "      <td>92.5</td>\n",
       "    </tr>\n",
       "    <tr>\n",
       "      <th>1</th>\n",
       "      <td>1</td>\n",
       "      <td>2</td>\n",
       "      <td>2001221048</td>\n",
       "      <td>2020-06-10 01:15:06</td>\n",
       "      <td>32340</td>\n",
       "      <td>6</td>\n",
       "      <td>29.933541</td>\n",
       "      <td>77.048846</td>\n",
       "      <td>240.69</td>\n",
       "      <td>0.0</td>\n",
       "      <td>...</td>\n",
       "      <td>0.0</td>\n",
       "      <td>3</td>\n",
       "      <td>0.1</td>\n",
       "      <td>0</td>\n",
       "      <td>0</td>\n",
       "      <td>-125</td>\n",
       "      <td>0</td>\n",
       "      <td>0.0</td>\n",
       "      <td>MB1A3GCD4KRYD3435</td>\n",
       "      <td>92.5</td>\n",
       "    </tr>\n",
       "    <tr>\n",
       "      <th>2</th>\n",
       "      <td>2</td>\n",
       "      <td>3</td>\n",
       "      <td>2001221048</td>\n",
       "      <td>2020-06-10 01:15:12</td>\n",
       "      <td>32341</td>\n",
       "      <td>6</td>\n",
       "      <td>29.933541</td>\n",
       "      <td>77.048846</td>\n",
       "      <td>240.69</td>\n",
       "      <td>0.0</td>\n",
       "      <td>...</td>\n",
       "      <td>0.0</td>\n",
       "      <td>3</td>\n",
       "      <td>0.1</td>\n",
       "      <td>0</td>\n",
       "      <td>0</td>\n",
       "      <td>-125</td>\n",
       "      <td>0</td>\n",
       "      <td>0.0</td>\n",
       "      <td>MB1A3GCD4KRYD3435</td>\n",
       "      <td>92.5</td>\n",
       "    </tr>\n",
       "    <tr>\n",
       "      <th>3</th>\n",
       "      <td>3</td>\n",
       "      <td>4</td>\n",
       "      <td>2001221048</td>\n",
       "      <td>2020-06-10 01:15:18</td>\n",
       "      <td>32342</td>\n",
       "      <td>6</td>\n",
       "      <td>29.933541</td>\n",
       "      <td>77.048846</td>\n",
       "      <td>240.69</td>\n",
       "      <td>0.0</td>\n",
       "      <td>...</td>\n",
       "      <td>0.0</td>\n",
       "      <td>3</td>\n",
       "      <td>0.1</td>\n",
       "      <td>0</td>\n",
       "      <td>0</td>\n",
       "      <td>-125</td>\n",
       "      <td>0</td>\n",
       "      <td>0.0</td>\n",
       "      <td>MB1A3GCD4KRYD3435</td>\n",
       "      <td>92.5</td>\n",
       "    </tr>\n",
       "    <tr>\n",
       "      <th>4</th>\n",
       "      <td>4</td>\n",
       "      <td>5</td>\n",
       "      <td>2001221048</td>\n",
       "      <td>2020-06-10 01:15:24</td>\n",
       "      <td>32343</td>\n",
       "      <td>6</td>\n",
       "      <td>29.933541</td>\n",
       "      <td>77.048846</td>\n",
       "      <td>240.69</td>\n",
       "      <td>0.0</td>\n",
       "      <td>...</td>\n",
       "      <td>0.0</td>\n",
       "      <td>3</td>\n",
       "      <td>0.1</td>\n",
       "      <td>0</td>\n",
       "      <td>0</td>\n",
       "      <td>-125</td>\n",
       "      <td>0</td>\n",
       "      <td>0.0</td>\n",
       "      <td>MB1A3GCD4KRYD3435</td>\n",
       "      <td>92.5</td>\n",
       "    </tr>\n",
       "  </tbody>\n",
       "</table>\n",
       "<p>5 rows × 120 columns</p>\n",
       "</div>"
      ],
      "text/plain": [
       "   index  S_No      obu_id       obu_timestamp  packet_sequence_id  \\\n",
       "0      0     1  2001221048 2020-06-10 01:15:00               32339   \n",
       "1      1     2  2001221048 2020-06-10 01:15:06               32340   \n",
       "2      2     3  2001221048 2020-06-10 01:15:12               32341   \n",
       "3      3     4  2001221048 2020-06-10 01:15:18               32342   \n",
       "4      4     5  2001221048 2020-06-10 01:15:24               32343   \n",
       "\n",
       "   p_frequency   latitude  longitude  altitude  heading  ... aft1_intake_nox  \\\n",
       "0            6  29.933541  77.048846    240.69      0.0  ...             0.0   \n",
       "1            6  29.933541  77.048846    240.69      0.0  ...             0.0   \n",
       "2            6  29.933541  77.048846    240.69      0.0  ...             0.0   \n",
       "3            6  29.933541  77.048846    240.69      0.0  ...             0.0   \n",
       "4            6  29.933541  77.048846    240.69      0.0  ...             0.0   \n",
       "\n",
       "   aft1_intake_nox_reading_stable  aft1_intermediate_gas dpf1_regen_needed  \\\n",
       "0                               3                    0.1                 0   \n",
       "1                               3                    0.1                 0   \n",
       "2                               3                    0.1                 0   \n",
       "3                               3                    0.1                 0   \n",
       "4                               3                    0.1                 0   \n",
       "\n",
       "   low_adblue_level_warning eng_requested_torque_limit  pf_actreginh_dueto  \\\n",
       "0                         0                       -125                   0   \n",
       "1                         0                       -125                   0   \n",
       "2                         0                       -125                   0   \n",
       "3                         0                       -125                   0   \n",
       "4                         0                       -125                   0   \n",
       "\n",
       "   aftertreatment1_outlet_nox                vin  fuel_level  \n",
       "0                         0.0  MB1A3GCD4KRYD3435        92.5  \n",
       "1                         0.0  MB1A3GCD4KRYD3435        92.5  \n",
       "2                         0.0  MB1A3GCD4KRYD3435        92.5  \n",
       "3                         0.0  MB1A3GCD4KRYD3435        92.5  \n",
       "4                         0.0  MB1A3GCD4KRYD3435        92.5  \n",
       "\n",
       "[5 rows x 120 columns]"
      ]
     },
     "execution_count": 47,
     "metadata": {},
     "output_type": "execute_result"
    }
   ],
   "source": [
    "# Peep into the first 5 lines of data\n",
    "data.head(5)"
   ]
  },
  {
   "cell_type": "code",
   "execution_count": 48,
   "metadata": {
    "ExecuteTime": {
     "end_time": "2020-07-09T17:05:31.632165Z",
     "start_time": "2020-07-09T17:05:31.626649Z"
    }
   },
   "outputs": [],
   "source": [
    "#data['BSFC_rating'] = 0"
   ]
  },
  {
   "cell_type": "code",
   "execution_count": 49,
   "metadata": {
    "ExecuteTime": {
     "end_time": "2020-07-09T17:05:36.383795Z",
     "start_time": "2020-07-09T17:05:32.342340Z"
    }
   },
   "outputs": [],
   "source": [
    "# BSFC zone rating\n",
    "for rows in data.index: # loops through entire dataframe based on size\n",
    "    #set_trace()\n",
    "    ##\n",
    "    if(data.engine_speed.iloc[rows]>2300):\n",
    "        data.at[rows,'BSFC_rating'] = 1\n",
    "    ##\n",
    "    if((data.engine_speed.iloc[rows] < 2300) & \n",
    "       (data.engine_speed.iloc[rows] > 2100) &\n",
    "       (data.actual_engine_percent_torque.iloc[rows] > 40)):\n",
    "        data.at[rows,'BSFC_rating'] = 3\n",
    "    if((data.engine_speed.iloc[rows] < 2300) & \n",
    "       (data.engine_speed.iloc[rows] > 2100) &\n",
    "       (data.actual_engine_percent_torque.iloc[rows] < 40)):\n",
    "        data.at[rows,'BSFC_rating'] = 1\n",
    "    ##\n",
    "    if((data.engine_speed.iloc[rows] < 2100) & \n",
    "       (data.engine_speed.iloc[rows] > 1900) &\n",
    "       (data.actual_engine_percent_torque.iloc[rows] > 40)):\n",
    "        data.at[rows,'BSFC_rating'] = 4\n",
    "    if((data.engine_speed.iloc[rows] < 2100) & \n",
    "       (data.engine_speed.iloc[rows] > 1900) &\n",
    "       (data.actual_engine_percent_torque.iloc[rows] < 40)):\n",
    "        data.at[rows,'BSFC_rating'] = 1\n",
    "    ##\n",
    "    if((data.engine_speed.iloc[rows] < 1900) & \n",
    "       (data.engine_speed.iloc[rows] > 1200) &\n",
    "       (data.actual_engine_percent_torque.iloc[rows] > 60)):\n",
    "        data.at[rows,'BSFC_rating'] = 5\n",
    "    if((data.engine_speed.iloc[rows] < 1900) & \n",
    "       (data.engine_speed.iloc[rows] > 1200) &\n",
    "       (data.actual_engine_percent_torque.iloc[rows] < 60) &\n",
    "       (data.actual_engine_percent_torque.iloc[rows] > 40)):\n",
    "        data.at[rows,'BSFC_rating'] = 4\n",
    "    if((data.engine_speed.iloc[rows] < 1900) & \n",
    "       (data.engine_speed.iloc[rows] > 1200) &\n",
    "       (data.actual_engine_percent_torque.iloc[rows] < 40)):\n",
    "        data.at[rows,'BSFC_rating'] = 1\n",
    "    ##\n",
    "    if((data.engine_speed.iloc[rows] < 1200) & \n",
    "       (data.engine_speed.iloc[rows] > 1000) &\n",
    "       (data.actual_engine_percent_torque.iloc[rows] > 40)):\n",
    "        data.at[rows,'BSFC_rating'] = 3\n",
    "    if((data.engine_speed.iloc[rows] < 1200) & \n",
    "       (data.engine_speed.iloc[rows] > 1000) &\n",
    "       (data.actual_engine_percent_torque.iloc[rows] < 40)):\n",
    "        data.at[rows,'BSFC_rating'] = 1\n",
    "    ##\n",
    "    if((data.engine_speed.iloc[rows] < 1000) &\n",
    "       (data.actual_engine_percent_torque.iloc[rows] > 40)):\n",
    "        data.at[rows,'BSFC_rating'] = 2\n",
    "    if((data.engine_speed.iloc[rows] < 1000) & \n",
    "       (data.actual_engine_percent_torque.iloc[rows] < 40) & \n",
    "       (data.actual_engine_percent_torque.iloc[rows] > 20)):\n",
    "        data.at[rows,'BSFC_rating'] = 1\n",
    "    if((data.engine_speed.iloc[rows] < 1000) & \n",
    "       (data.actual_engine_percent_torque.iloc[rows] < 20)):\n",
    "        data.at[rows,'BSFC_rating'] = 3"
   ]
  },
  {
   "cell_type": "code",
   "execution_count": 50,
   "metadata": {
    "ExecuteTime": {
     "end_time": "2020-07-09T17:05:36.451982Z",
     "start_time": "2020-07-09T17:05:36.438443Z"
    }
   },
   "outputs": [],
   "source": [
    "#data['acceleration_6s']=0.00"
   ]
  },
  {
   "cell_type": "code",
   "execution_count": 51,
   "metadata": {
    "ExecuteTime": {
     "end_time": "2020-07-09T17:05:37.304837Z",
     "start_time": "2020-07-09T17:05:36.607849Z"
    }
   },
   "outputs": [
    {
     "name": "stderr",
     "output_type": "stream",
     "text": [
      "C:\\Users\\devanandh.v\\AppData\\Local\\Continuum\\anaconda3\\lib\\site-packages\\ipykernel_launcher.py:3: RuntimeWarning: invalid value encountered in double_scalars\n",
      "  This is separate from the ipykernel package so we can avoid doing imports until\n",
      "C:\\Users\\devanandh.v\\AppData\\Local\\Continuum\\anaconda3\\lib\\site-packages\\ipykernel_launcher.py:3: RuntimeWarning: divide by zero encountered in double_scalars\n",
      "  This is separate from the ipykernel package so we can avoid doing imports until\n"
     ]
    }
   ],
   "source": [
    "for rows in data.index[1:]:\n",
    "    #set_trace()\n",
    "    acc = (data.wheel_based_speed.iloc[rows]*5/18 - data.wheel_based_speed.iloc[rows-1]*5/18)/(data.obu_timestamp.iloc[rows].second - data.obu_timestamp.iloc[rows-1].second)\n",
    "    data.at[rows, 'acceleration_6s'] = acc"
   ]
  },
  {
   "cell_type": "code",
   "execution_count": 52,
   "metadata": {
    "ExecuteTime": {
     "end_time": "2020-07-09T17:05:38.901267Z",
     "start_time": "2020-07-09T17:05:37.913343Z"
    }
   },
   "outputs": [
    {
     "data": {
      "text/plain": [
       "<seaborn.axisgrid.PairGrid at 0x26a84a4d240>"
      ]
     },
     "execution_count": 52,
     "metadata": {},
     "output_type": "execute_result"
    },
    {
     "data": {
      "image/png": "[encoded data removed]",
      "text/plain": [
       "<Figure size 360x360 with 1 Axes>"
      ]
     },
     "metadata": {},
     "output_type": "display_data"
    }
   ],
   "source": [
    "sns.pairplot(data,x_vars='index',y_vars='acceleration_6s',size=5)"
   ]
  },
  {
   "cell_type": "code",
   "execution_count": 53,
   "metadata": {
    "ExecuteTime": {
     "end_time": "2020-07-09T17:05:39.671615Z",
     "start_time": "2020-07-09T17:05:39.661588Z"
    }
   },
   "outputs": [
    {
     "data": {
      "text/plain": [
       "1    4456\n",
       "0     338\n",
       "Name: ignition_status, dtype: int64"
      ]
     },
     "execution_count": 53,
     "metadata": {},
     "output_type": "execute_result"
    }
   ],
   "source": [
    "# Check total instances of Igntion On and OFF\n",
    "data['ignition_status'].value_counts()"
   ]
  },
  {
   "cell_type": "code",
   "execution_count": 54,
   "metadata": {
    "ExecuteTime": {
     "end_time": "2020-07-09T17:05:43.658573Z",
     "start_time": "2020-07-09T17:05:41.739076Z"
    },
    "code_folding": [
     0
    ],
    "scrolled": false
   },
   "outputs": [
    {
     "name": "stdout",
     "output_type": "stream",
     "text": [
      "[[1, 0, 17], [2, 37, 403], [3, 423, 479], [4, 500, 557], [5, 577, 596], [6, 616, 684], [7, 704, 740], [8, 761, 770], [9, 790, 798], [10, 817, 891], [11, 911, 941], [12, 960, 973], [13, 991, 1012], [14, 1032, 1048], [15, 1068, 1099], [16, 1119, 2059], [17, 2079, 4774]]\n"
     ]
    }
   ],
   "source": [
    "#-----------------------------\n",
    "### No. of trips extractor \n",
    "\n",
    "# Variable initilization\n",
    "trip_id = 1 \n",
    "trip_info_list = [] \n",
    "start_index = 0 \n",
    "stop_index = 0 \n",
    "rows = 0 \n",
    "x = 0 \n",
    "\n",
    "for rows in data.index: # loops through entire dataframe based on size\n",
    "    \n",
    "        for rows in data.index[start_index:]:          # Loop through the subdataframe starting with the latest start index\n",
    "            #set_trace()                               # Debugging sequence if reqd remove '#' and run for line by line debugging\n",
    "            if(data['ignition_status'].iloc[rows] == 1): # Enter loop if Ingition ON is detected\n",
    "                start_index = data['index'].iloc[rows]   # Assign the first index of satisfied condition for Ignition ON\n",
    "                for x in data.index[rows:]:              # For this loop sequence determining the next instance of Ignition OFF\n",
    "                    if(data['ignition_status'].iloc[x] == 0): # Stop at instance when Ignition is detected OFF\n",
    "                        stop_index = data['index'].iloc[x]    # Store the index as latest stop index\n",
    "                        break \n",
    "                if(start_index<=stop_index):                  # Proceed only if stop index is greater than start index\n",
    "                    trip_info_temp=[trip_id,start_index,stop_index] # Temporary row list containing parameters\n",
    "                    trip_info_list.append(trip_info_temp)     # Append to the trip info list\n",
    "                    start_index=stop_index                   # Assign the latest stop index as the next start index to initiate next subdataframe\n",
    "                    trip_id +=1 \n",
    "                else:                                        # Force exit the entire loop, if start index greater than stop index, indicating the source dataframe does not end with Ignition OFF\n",
    "                    break\n",
    "                break \n",
    "\n",
    "print(trip_info_list)  # list all trip info in the current dataset\n",
    "\n",
    "# ---------------------------"
   ]
  },
  {
   "cell_type": "code",
   "execution_count": 137,
   "metadata": {
    "ExecuteTime": {
     "end_time": "2020-07-09T18:32:37.619429Z",
     "start_time": "2020-07-09T18:32:37.612400Z"
    },
    "code_folding": []
   },
   "outputs": [],
   "source": [
    "trip_info_df = pd.DataFrame(trip_info_list,\n",
    "                            columns=['Trip_ID', \"Start_index\", \"Stop_index\"\n",
    "                                     ])  # Convert list to dataframe"
   ]
  },
  {
   "cell_type": "code",
   "execution_count": 138,
   "metadata": {
    "ExecuteTime": {
     "end_time": "2020-07-09T18:32:38.085272Z",
     "start_time": "2020-07-09T18:32:38.076745Z"
    }
   },
   "outputs": [
    {
     "data": {
      "text/html": [
       "<div>\n",
       "<style scoped>\n",
       "    .dataframe tbody tr th:only-of-type {\n",
       "        vertical-align: middle;\n",
       "    }\n",
       "\n",
       "    .dataframe tbody tr th {\n",
       "        vertical-align: top;\n",
       "    }\n",
       "\n",
       "    .dataframe thead th {\n",
       "        text-align: right;\n",
       "    }\n",
       "</style>\n",
       "<table border=\"1\" class=\"dataframe\">\n",
       "  <thead>\n",
       "    <tr style=\"text-align: right;\">\n",
       "      <th></th>\n",
       "      <th>Trip_ID</th>\n",
       "      <th>Start_index</th>\n",
       "      <th>Stop_index</th>\n",
       "    </tr>\n",
       "  </thead>\n",
       "  <tbody>\n",
       "    <tr>\n",
       "      <th>0</th>\n",
       "      <td>1</td>\n",
       "      <td>0</td>\n",
       "      <td>17</td>\n",
       "    </tr>\n",
       "    <tr>\n",
       "      <th>1</th>\n",
       "      <td>2</td>\n",
       "      <td>37</td>\n",
       "      <td>403</td>\n",
       "    </tr>\n",
       "    <tr>\n",
       "      <th>2</th>\n",
       "      <td>3</td>\n",
       "      <td>423</td>\n",
       "      <td>479</td>\n",
       "    </tr>\n",
       "    <tr>\n",
       "      <th>3</th>\n",
       "      <td>4</td>\n",
       "      <td>500</td>\n",
       "      <td>557</td>\n",
       "    </tr>\n",
       "    <tr>\n",
       "      <th>4</th>\n",
       "      <td>5</td>\n",
       "      <td>577</td>\n",
       "      <td>596</td>\n",
       "    </tr>\n",
       "  </tbody>\n",
       "</table>\n",
       "</div>"
      ],
      "text/plain": [
       "   Trip_ID  Start_index  Stop_index\n",
       "0        1            0          17\n",
       "1        2           37         403\n",
       "2        3          423         479\n",
       "3        4          500         557\n",
       "4        5          577         596"
      ]
     },
     "execution_count": 138,
     "metadata": {},
     "output_type": "execute_result"
    }
   ],
   "source": [
    "trip_info_df.head(5) # Trip_info dataframe view"
   ]
  },
  {
   "cell_type": "code",
   "execution_count": 139,
   "metadata": {
    "ExecuteTime": {
     "end_time": "2020-07-09T18:32:38.599308Z",
     "start_time": "2020-07-09T18:32:38.594317Z"
    }
   },
   "outputs": [
    {
     "name": "stdout",
     "output_type": "stream",
     "text": [
      "Total trips undertaken: 17\n"
     ]
    }
   ],
   "source": [
    "print(\"Total trips undertaken:\", trip_info_df['Trip_ID'].count())"
   ]
  },
  {
   "cell_type": "code",
   "execution_count": 140,
   "metadata": {
    "ExecuteTime": {
     "end_time": "2020-07-09T18:32:39.170618Z",
     "start_time": "2020-07-09T18:32:39.159583Z"
    }
   },
   "outputs": [
    {
     "data": {
      "text/html": [
       "<div>\n",
       "<style scoped>\n",
       "    .dataframe tbody tr th:only-of-type {\n",
       "        vertical-align: middle;\n",
       "    }\n",
       "\n",
       "    .dataframe tbody tr th {\n",
       "        vertical-align: top;\n",
       "    }\n",
       "\n",
       "    .dataframe thead th {\n",
       "        text-align: right;\n",
       "    }\n",
       "</style>\n",
       "<table border=\"1\" class=\"dataframe\">\n",
       "  <thead>\n",
       "    <tr style=\"text-align: right;\">\n",
       "      <th></th>\n",
       "      <th>Trip_ID</th>\n",
       "      <th>Start_index</th>\n",
       "      <th>Stop_index</th>\n",
       "    </tr>\n",
       "  </thead>\n",
       "  <tbody>\n",
       "    <tr>\n",
       "      <th>0</th>\n",
       "      <td>1</td>\n",
       "      <td>0</td>\n",
       "      <td>17</td>\n",
       "    </tr>\n",
       "    <tr>\n",
       "      <th>1</th>\n",
       "      <td>2</td>\n",
       "      <td>37</td>\n",
       "      <td>403</td>\n",
       "    </tr>\n",
       "    <tr>\n",
       "      <th>2</th>\n",
       "      <td>3</td>\n",
       "      <td>423</td>\n",
       "      <td>479</td>\n",
       "    </tr>\n",
       "    <tr>\n",
       "      <th>3</th>\n",
       "      <td>4</td>\n",
       "      <td>500</td>\n",
       "      <td>557</td>\n",
       "    </tr>\n",
       "    <tr>\n",
       "      <th>4</th>\n",
       "      <td>5</td>\n",
       "      <td>577</td>\n",
       "      <td>596</td>\n",
       "    </tr>\n",
       "  </tbody>\n",
       "</table>\n",
       "</div>"
      ],
      "text/plain": [
       "   Trip_ID  Start_index  Stop_index\n",
       "0        1            0          17\n",
       "1        2           37         403\n",
       "2        3          423         479\n",
       "3        4          500         557\n",
       "4        5          577         596"
      ]
     },
     "execution_count": 140,
     "metadata": {},
     "output_type": "execute_result"
    }
   ],
   "source": [
    "trip_info_df.head(5)"
   ]
  },
  {
   "cell_type": "code",
   "execution_count": 141,
   "metadata": {
    "ExecuteTime": {
     "end_time": "2020-07-09T18:32:41.746752Z",
     "start_time": "2020-07-09T18:32:41.740740Z"
    }
   },
   "outputs": [],
   "source": [
    "trip={}"
   ]
  },
  {
   "cell_type": "code",
   "execution_count": 142,
   "metadata": {
    "ExecuteTime": {
     "end_time": "2020-07-09T18:32:44.054259Z",
     "start_time": "2020-07-09T18:32:42.255781Z"
    }
   },
   "outputs": [],
   "source": [
    "# Generate new dataframes with trip[trip_ID] for each trip_ID\n",
    "for trips in trip_info_df.index:\n",
    "    #set_trace()\n",
    "    trip[trips] = data.iloc[trip_info_df.Start_index[trips]:trip_info_df.Stop_index[trips]]\n",
    "    trip[trips].reset_index(inplace=True)\n",
    "    trip[trips]= trip[trips].drop(axis=1,columns=['index','level_0'])\n",
    "    \n",
    "    trip_info_df.at[trips, 'total_distance'] = trip[trips]['vehicle_distance'].max()-trip[trips]['vehicle_distance'].min()\n",
    "    trip_info_df.at[trips, 'eng_speed_mean'] = round(trip[trips]['engine_speed'].mean(),0)\n",
    "    trip_info_df.at[trips, 'veh_speed_mean'] = round(trip[trips]['wheel_based_speed'].mean(),0)\n",
    "    trip_info_df.at[trips, 'red_zone_count'] = trip[trips][trip[trips]['engine_speed']>2500].engine_speed.count()\n",
    "  \n",
    "    trip_info_df.at[trips, 'BSFC_rating_0'] = round(trip[trips][trip[trips]['BSFC_rating']==0].BSFC_rating.count()/trip[trips].BSFC_rating.count()*100,2)\n",
    "    trip_info_df.at[trips, 'BSFC_rating_1'] = round(trip[trips][trip[trips]['BSFC_rating']==1].BSFC_rating.count()/trip[trips].BSFC_rating.count()*100,2)\n",
    "    trip_info_df.at[trips, 'BSFC_rating_2'] = round(trip[trips][trip[trips]['BSFC_rating']==2].BSFC_rating.count()/trip[trips].BSFC_rating.count()*100,2)\n",
    "    trip_info_df.at[trips, 'BSFC_rating_3'] = round(trip[trips][trip[trips]['BSFC_rating']==3].BSFC_rating.count()/trip[trips].BSFC_rating.count()*100,2)\n",
    "    trip_info_df.at[trips, 'BSFC_rating_4'] = round(trip[trips][trip[trips]['BSFC_rating']==4].BSFC_rating.count()/trip[trips].BSFC_rating.count()*100,2)\n",
    "    trip_info_df.at[trips, 'BSFC_rating_5'] = round(trip[trips][trip[trips]['BSFC_rating']==5].BSFC_rating.count()/trip[trips].BSFC_rating.count()*100,2)\n",
    "    \n",
    "    #Trip_insight\n",
    "    if ((trip_info_df.at[trips, 'eng_speed_mean']> 700) & (trip_info_df.at[trips, 'total_distance']>=1)):\n",
    "        trip_info_df.at[trips, 'trip_insight'] = 'Active_trip'\n",
    "        trip_info_df.at[trips, 'max_gear_util'] = trip[trips][trip[trips]['transmission_current_gear']>4].transmission_current_gear.sum()/trip[trips].transmission_current_gear.sum()*100\n",
    "    elif ((trip_info_df.at[trips, 'eng_speed_mean']> 700) & (trip_info_df.at[trips,'total_distance']<1)):\n",
    "        trip_info_df.at[trips, 'trip_insight'] = 'Idling_trip' \n",
    "    else:\n",
    "        trip_info_df.at[trips, 'trip_insight'] = 'Unused' \n",
    "        \n",
    "    \n",
    "    \n",
    "    \n",
    "    #((trip_info_df.at[trips, 'eng_speed_mean']< 700) & (trip_info_df.at[trips, 'total_distance'] == 0))\n",
    "    #trip_info_df.at[trips, 'eng_running'] = 'Yes' if trip[trips]['engine_speed'].mean()> 700  else \"No\"\n",
    "    #trip_info_df.at[trips, 'avg_eng_speed'] = trip[trips]['engine_speed'].mean()"
   ]
  },
  {
   "cell_type": "code",
   "execution_count": 143,
   "metadata": {
    "ExecuteTime": {
     "end_time": "2020-07-09T18:32:44.137994Z",
     "start_time": "2020-07-09T18:32:44.108941Z"
    }
   },
   "outputs": [
    {
     "data": {
      "text/html": [
       "<div>\n",
       "<style scoped>\n",
       "    .dataframe tbody tr th:only-of-type {\n",
       "        vertical-align: middle;\n",
       "    }\n",
       "\n",
       "    .dataframe tbody tr th {\n",
       "        vertical-align: top;\n",
       "    }\n",
       "\n",
       "    .dataframe thead th {\n",
       "        text-align: right;\n",
       "    }\n",
       "</style>\n",
       "<table border=\"1\" class=\"dataframe\">\n",
       "  <thead>\n",
       "    <tr style=\"text-align: right;\">\n",
       "      <th></th>\n",
       "      <th>Trip_ID</th>\n",
       "      <th>Start_index</th>\n",
       "      <th>Stop_index</th>\n",
       "      <th>total_distance</th>\n",
       "      <th>eng_speed_mean</th>\n",
       "      <th>veh_speed_mean</th>\n",
       "      <th>red_zone_count</th>\n",
       "      <th>BSFC_rating_0</th>\n",
       "      <th>BSFC_rating_1</th>\n",
       "      <th>BSFC_rating_2</th>\n",
       "      <th>BSFC_rating_3</th>\n",
       "      <th>BSFC_rating_4</th>\n",
       "      <th>BSFC_rating_5</th>\n",
       "      <th>trip_insight</th>\n",
       "      <th>max_gear_util</th>\n",
       "    </tr>\n",
       "  </thead>\n",
       "  <tbody>\n",
       "    <tr>\n",
       "      <th>0</th>\n",
       "      <td>1</td>\n",
       "      <td>0</td>\n",
       "      <td>17</td>\n",
       "      <td>0.0</td>\n",
       "      <td>800.0</td>\n",
       "      <td>0.0</td>\n",
       "      <td>0.0</td>\n",
       "      <td>0.00</td>\n",
       "      <td>0.00</td>\n",
       "      <td>0.00</td>\n",
       "      <td>100.00</td>\n",
       "      <td>0.00</td>\n",
       "      <td>0.00</td>\n",
       "      <td>Idling_trip</td>\n",
       "      <td>NaN</td>\n",
       "    </tr>\n",
       "    <tr>\n",
       "      <th>1</th>\n",
       "      <td>2</td>\n",
       "      <td>37</td>\n",
       "      <td>403</td>\n",
       "      <td>22.0</td>\n",
       "      <td>1406.0</td>\n",
       "      <td>36.0</td>\n",
       "      <td>0.0</td>\n",
       "      <td>2.46</td>\n",
       "      <td>61.48</td>\n",
       "      <td>1.37</td>\n",
       "      <td>15.85</td>\n",
       "      <td>17.21</td>\n",
       "      <td>1.64</td>\n",
       "      <td>Active_trip</td>\n",
       "      <td>67.452521</td>\n",
       "    </tr>\n",
       "    <tr>\n",
       "      <th>2</th>\n",
       "      <td>3</td>\n",
       "      <td>423</td>\n",
       "      <td>479</td>\n",
       "      <td>1.0</td>\n",
       "      <td>934.0</td>\n",
       "      <td>5.0</td>\n",
       "      <td>0.0</td>\n",
       "      <td>1.79</td>\n",
       "      <td>21.43</td>\n",
       "      <td>1.79</td>\n",
       "      <td>75.00</td>\n",
       "      <td>0.00</td>\n",
       "      <td>0.00</td>\n",
       "      <td>Active_trip</td>\n",
       "      <td>0.000000</td>\n",
       "    </tr>\n",
       "    <tr>\n",
       "      <th>3</th>\n",
       "      <td>4</td>\n",
       "      <td>500</td>\n",
       "      <td>557</td>\n",
       "      <td>0.0</td>\n",
       "      <td>889.0</td>\n",
       "      <td>1.0</td>\n",
       "      <td>0.0</td>\n",
       "      <td>1.75</td>\n",
       "      <td>10.53</td>\n",
       "      <td>0.00</td>\n",
       "      <td>85.96</td>\n",
       "      <td>1.75</td>\n",
       "      <td>0.00</td>\n",
       "      <td>Idling_trip</td>\n",
       "      <td>NaN</td>\n",
       "    </tr>\n",
       "    <tr>\n",
       "      <th>4</th>\n",
       "      <td>5</td>\n",
       "      <td>577</td>\n",
       "      <td>596</td>\n",
       "      <td>0.0</td>\n",
       "      <td>0.0</td>\n",
       "      <td>0.0</td>\n",
       "      <td>0.0</td>\n",
       "      <td>0.00</td>\n",
       "      <td>0.00</td>\n",
       "      <td>0.00</td>\n",
       "      <td>100.00</td>\n",
       "      <td>0.00</td>\n",
       "      <td>0.00</td>\n",
       "      <td>Unused</td>\n",
       "      <td>NaN</td>\n",
       "    </tr>\n",
       "    <tr>\n",
       "      <th>5</th>\n",
       "      <td>6</td>\n",
       "      <td>616</td>\n",
       "      <td>684</td>\n",
       "      <td>1.0</td>\n",
       "      <td>940.0</td>\n",
       "      <td>8.0</td>\n",
       "      <td>0.0</td>\n",
       "      <td>1.47</td>\n",
       "      <td>36.76</td>\n",
       "      <td>0.00</td>\n",
       "      <td>61.76</td>\n",
       "      <td>0.00</td>\n",
       "      <td>0.00</td>\n",
       "      <td>Active_trip</td>\n",
       "      <td>0.000000</td>\n",
       "    </tr>\n",
       "    <tr>\n",
       "      <th>6</th>\n",
       "      <td>7</td>\n",
       "      <td>704</td>\n",
       "      <td>740</td>\n",
       "      <td>0.0</td>\n",
       "      <td>867.0</td>\n",
       "      <td>3.0</td>\n",
       "      <td>0.0</td>\n",
       "      <td>2.78</td>\n",
       "      <td>8.33</td>\n",
       "      <td>0.00</td>\n",
       "      <td>88.89</td>\n",
       "      <td>0.00</td>\n",
       "      <td>0.00</td>\n",
       "      <td>Idling_trip</td>\n",
       "      <td>NaN</td>\n",
       "    </tr>\n",
       "    <tr>\n",
       "      <th>7</th>\n",
       "      <td>8</td>\n",
       "      <td>761</td>\n",
       "      <td>770</td>\n",
       "      <td>0.0</td>\n",
       "      <td>907.0</td>\n",
       "      <td>6.0</td>\n",
       "      <td>0.0</td>\n",
       "      <td>0.00</td>\n",
       "      <td>22.22</td>\n",
       "      <td>0.00</td>\n",
       "      <td>77.78</td>\n",
       "      <td>0.00</td>\n",
       "      <td>0.00</td>\n",
       "      <td>Idling_trip</td>\n",
       "      <td>NaN</td>\n",
       "    </tr>\n",
       "    <tr>\n",
       "      <th>8</th>\n",
       "      <td>9</td>\n",
       "      <td>790</td>\n",
       "      <td>798</td>\n",
       "      <td>0.0</td>\n",
       "      <td>1016.0</td>\n",
       "      <td>3.0</td>\n",
       "      <td>0.0</td>\n",
       "      <td>0.00</td>\n",
       "      <td>37.50</td>\n",
       "      <td>0.00</td>\n",
       "      <td>62.50</td>\n",
       "      <td>0.00</td>\n",
       "      <td>0.00</td>\n",
       "      <td>Idling_trip</td>\n",
       "      <td>NaN</td>\n",
       "    </tr>\n",
       "    <tr>\n",
       "      <th>9</th>\n",
       "      <td>10</td>\n",
       "      <td>817</td>\n",
       "      <td>891</td>\n",
       "      <td>1.0</td>\n",
       "      <td>1125.0</td>\n",
       "      <td>10.0</td>\n",
       "      <td>0.0</td>\n",
       "      <td>1.35</td>\n",
       "      <td>60.81</td>\n",
       "      <td>0.00</td>\n",
       "      <td>37.84</td>\n",
       "      <td>0.00</td>\n",
       "      <td>0.00</td>\n",
       "      <td>Active_trip</td>\n",
       "      <td>0.000000</td>\n",
       "    </tr>\n",
       "    <tr>\n",
       "      <th>10</th>\n",
       "      <td>11</td>\n",
       "      <td>911</td>\n",
       "      <td>941</td>\n",
       "      <td>1.0</td>\n",
       "      <td>896.0</td>\n",
       "      <td>5.0</td>\n",
       "      <td>0.0</td>\n",
       "      <td>0.00</td>\n",
       "      <td>30.00</td>\n",
       "      <td>3.33</td>\n",
       "      <td>66.67</td>\n",
       "      <td>0.00</td>\n",
       "      <td>0.00</td>\n",
       "      <td>Active_trip</td>\n",
       "      <td>0.000000</td>\n",
       "    </tr>\n",
       "    <tr>\n",
       "      <th>11</th>\n",
       "      <td>12</td>\n",
       "      <td>960</td>\n",
       "      <td>973</td>\n",
       "      <td>0.0</td>\n",
       "      <td>1177.0</td>\n",
       "      <td>8.0</td>\n",
       "      <td>0.0</td>\n",
       "      <td>0.00</td>\n",
       "      <td>53.85</td>\n",
       "      <td>0.00</td>\n",
       "      <td>30.77</td>\n",
       "      <td>15.38</td>\n",
       "      <td>0.00</td>\n",
       "      <td>Idling_trip</td>\n",
       "      <td>NaN</td>\n",
       "    </tr>\n",
       "    <tr>\n",
       "      <th>12</th>\n",
       "      <td>13</td>\n",
       "      <td>991</td>\n",
       "      <td>1012</td>\n",
       "      <td>0.0</td>\n",
       "      <td>1001.0</td>\n",
       "      <td>4.0</td>\n",
       "      <td>0.0</td>\n",
       "      <td>9.52</td>\n",
       "      <td>28.57</td>\n",
       "      <td>4.76</td>\n",
       "      <td>57.14</td>\n",
       "      <td>0.00</td>\n",
       "      <td>0.00</td>\n",
       "      <td>Idling_trip</td>\n",
       "      <td>NaN</td>\n",
       "    </tr>\n",
       "    <tr>\n",
       "      <th>13</th>\n",
       "      <td>14</td>\n",
       "      <td>1032</td>\n",
       "      <td>1048</td>\n",
       "      <td>0.0</td>\n",
       "      <td>1512.0</td>\n",
       "      <td>12.0</td>\n",
       "      <td>0.0</td>\n",
       "      <td>6.25</td>\n",
       "      <td>81.25</td>\n",
       "      <td>0.00</td>\n",
       "      <td>12.50</td>\n",
       "      <td>0.00</td>\n",
       "      <td>0.00</td>\n",
       "      <td>Idling_trip</td>\n",
       "      <td>NaN</td>\n",
       "    </tr>\n",
       "    <tr>\n",
       "      <th>14</th>\n",
       "      <td>15</td>\n",
       "      <td>1068</td>\n",
       "      <td>1099</td>\n",
       "      <td>1.0</td>\n",
       "      <td>1469.0</td>\n",
       "      <td>14.0</td>\n",
       "      <td>0.0</td>\n",
       "      <td>0.00</td>\n",
       "      <td>61.29</td>\n",
       "      <td>0.00</td>\n",
       "      <td>12.90</td>\n",
       "      <td>25.81</td>\n",
       "      <td>0.00</td>\n",
       "      <td>Active_trip</td>\n",
       "      <td>0.000000</td>\n",
       "    </tr>\n",
       "    <tr>\n",
       "      <th>15</th>\n",
       "      <td>16</td>\n",
       "      <td>1119</td>\n",
       "      <td>2059</td>\n",
       "      <td>54.0</td>\n",
       "      <td>1301.0</td>\n",
       "      <td>34.0</td>\n",
       "      <td>0.0</td>\n",
       "      <td>4.47</td>\n",
       "      <td>24.57</td>\n",
       "      <td>0.53</td>\n",
       "      <td>27.77</td>\n",
       "      <td>25.74</td>\n",
       "      <td>16.91</td>\n",
       "      <td>Active_trip</td>\n",
       "      <td>73.425586</td>\n",
       "    </tr>\n",
       "    <tr>\n",
       "      <th>16</th>\n",
       "      <td>17</td>\n",
       "      <td>2079</td>\n",
       "      <td>4774</td>\n",
       "      <td>217.0</td>\n",
       "      <td>1359.0</td>\n",
       "      <td>48.0</td>\n",
       "      <td>0.0</td>\n",
       "      <td>3.90</td>\n",
       "      <td>25.23</td>\n",
       "      <td>0.45</td>\n",
       "      <td>12.54</td>\n",
       "      <td>33.62</td>\n",
       "      <td>24.27</td>\n",
       "      <td>Active_trip</td>\n",
       "      <td>92.299427</td>\n",
       "    </tr>\n",
       "  </tbody>\n",
       "</table>\n",
       "</div>"
      ],
      "text/plain": [
       "    Trip_ID  Start_index  Stop_index  total_distance  eng_speed_mean  \\\n",
       "0         1            0          17             0.0           800.0   \n",
       "1         2           37         403            22.0          1406.0   \n",
       "2         3          423         479             1.0           934.0   \n",
       "3         4          500         557             0.0           889.0   \n",
       "4         5          577         596             0.0             0.0   \n",
       "5         6          616         684             1.0           940.0   \n",
       "6         7          704         740             0.0           867.0   \n",
       "7         8          761         770             0.0           907.0   \n",
       "8         9          790         798             0.0          1016.0   \n",
       "9        10          817         891             1.0          1125.0   \n",
       "10       11          911         941             1.0           896.0   \n",
       "11       12          960         973             0.0          1177.0   \n",
       "12       13          991        1012             0.0          1001.0   \n",
       "13       14         1032        1048             0.0          1512.0   \n",
       "14       15         1068        1099             1.0          1469.0   \n",
       "15       16         1119        2059            54.0          1301.0   \n",
       "16       17         2079        4774           217.0          1359.0   \n",
       "\n",
       "    veh_speed_mean  red_zone_count  BSFC_rating_0  BSFC_rating_1  \\\n",
       "0              0.0             0.0           0.00           0.00   \n",
       "1             36.0             0.0           2.46          61.48   \n",
       "2              5.0             0.0           1.79          21.43   \n",
       "3              1.0             0.0           1.75          10.53   \n",
       "4              0.0             0.0           0.00           0.00   \n",
       "5              8.0             0.0           1.47          36.76   \n",
       "6              3.0             0.0           2.78           8.33   \n",
       "7              6.0             0.0           0.00          22.22   \n",
       "8              3.0             0.0           0.00          37.50   \n",
       "9             10.0             0.0           1.35          60.81   \n",
       "10             5.0             0.0           0.00          30.00   \n",
       "11             8.0             0.0           0.00          53.85   \n",
       "12             4.0             0.0           9.52          28.57   \n",
       "13            12.0             0.0           6.25          81.25   \n",
       "14            14.0             0.0           0.00          61.29   \n",
       "15            34.0             0.0           4.47          24.57   \n",
       "16            48.0             0.0           3.90          25.23   \n",
       "\n",
       "    BSFC_rating_2  BSFC_rating_3  BSFC_rating_4  BSFC_rating_5 trip_insight  \\\n",
       "0            0.00         100.00           0.00           0.00  Idling_trip   \n",
       "1            1.37          15.85          17.21           1.64  Active_trip   \n",
       "2            1.79          75.00           0.00           0.00  Active_trip   \n",
       "3            0.00          85.96           1.75           0.00  Idling_trip   \n",
       "4            0.00         100.00           0.00           0.00       Unused   \n",
       "5            0.00          61.76           0.00           0.00  Active_trip   \n",
       "6            0.00          88.89           0.00           0.00  Idling_trip   \n",
       "7            0.00          77.78           0.00           0.00  Idling_trip   \n",
       "8            0.00          62.50           0.00           0.00  Idling_trip   \n",
       "9            0.00          37.84           0.00           0.00  Active_trip   \n",
       "10           3.33          66.67           0.00           0.00  Active_trip   \n",
       "11           0.00          30.77          15.38           0.00  Idling_trip   \n",
       "12           4.76          57.14           0.00           0.00  Idling_trip   \n",
       "13           0.00          12.50           0.00           0.00  Idling_trip   \n",
       "14           0.00          12.90          25.81           0.00  Active_trip   \n",
       "15           0.53          27.77          25.74          16.91  Active_trip   \n",
       "16           0.45          12.54          33.62          24.27  Active_trip   \n",
       "\n",
       "    max_gear_util  \n",
       "0             NaN  \n",
       "1       67.452521  \n",
       "2        0.000000  \n",
       "3             NaN  \n",
       "4             NaN  \n",
       "5        0.000000  \n",
       "6             NaN  \n",
       "7             NaN  \n",
       "8             NaN  \n",
       "9        0.000000  \n",
       "10       0.000000  \n",
       "11            NaN  \n",
       "12            NaN  \n",
       "13            NaN  \n",
       "14       0.000000  \n",
       "15      73.425586  \n",
       "16      92.299427  "
      ]
     },
     "execution_count": 143,
     "metadata": {},
     "output_type": "execute_result"
    }
   ],
   "source": [
    "trip_info_df"
   ]
  },
  {
   "cell_type": "code",
   "execution_count": 146,
   "metadata": {
    "ExecuteTime": {
     "end_time": "2020-07-09T18:37:12.820898Z",
     "start_time": "2020-07-09T18:37:12.503039Z"
    }
   },
   "outputs": [
    {
     "data": {
      "text/html": [
       "<div>\n",
       "<style scoped>\n",
       "    .dataframe tbody tr th:only-of-type {\n",
       "        vertical-align: middle;\n",
       "    }\n",
       "\n",
       "    .dataframe tbody tr th {\n",
       "        vertical-align: top;\n",
       "    }\n",
       "\n",
       "    .dataframe thead th {\n",
       "        text-align: right;\n",
       "    }\n",
       "</style>\n",
       "<table border=\"1\" class=\"dataframe\">\n",
       "  <thead>\n",
       "    <tr style=\"text-align: right;\">\n",
       "      <th></th>\n",
       "      <th>Trip_ID</th>\n",
       "      <th>Start_index</th>\n",
       "      <th>Stop_index</th>\n",
       "      <th>total_distance</th>\n",
       "      <th>eng_speed_mean</th>\n",
       "      <th>veh_speed_mean</th>\n",
       "      <th>red_zone_count</th>\n",
       "      <th>BSFC_rating_0</th>\n",
       "      <th>BSFC_rating_1</th>\n",
       "      <th>BSFC_rating_2</th>\n",
       "      <th>BSFC_rating_3</th>\n",
       "      <th>BSFC_rating_4</th>\n",
       "      <th>BSFC_rating_5</th>\n",
       "      <th>max_gear_util</th>\n",
       "    </tr>\n",
       "  </thead>\n",
       "  <tbody>\n",
       "    <tr>\n",
       "      <th>count</th>\n",
       "      <td>17.000000</td>\n",
       "      <td>17.000000</td>\n",
       "      <td>17.000000</td>\n",
       "      <td>17.000000</td>\n",
       "      <td>17.000000</td>\n",
       "      <td>17.000000</td>\n",
       "      <td>17.0</td>\n",
       "      <td>17.000000</td>\n",
       "      <td>17.000000</td>\n",
       "      <td>17.000000</td>\n",
       "      <td>17.000000</td>\n",
       "      <td>17.000000</td>\n",
       "      <td>17.000000</td>\n",
       "      <td>8.000000</td>\n",
       "    </tr>\n",
       "    <tr>\n",
       "      <th>mean</th>\n",
       "      <td>9.000000</td>\n",
       "      <td>787.352941</td>\n",
       "      <td>1049.470588</td>\n",
       "      <td>17.529412</td>\n",
       "      <td>1035.235294</td>\n",
       "      <td>11.588235</td>\n",
       "      <td>0.0</td>\n",
       "      <td>2.102353</td>\n",
       "      <td>33.165882</td>\n",
       "      <td>0.719412</td>\n",
       "      <td>54.462941</td>\n",
       "      <td>7.030000</td>\n",
       "      <td>2.518824</td>\n",
       "      <td>29.147192</td>\n",
       "    </tr>\n",
       "    <tr>\n",
       "      <th>std</th>\n",
       "      <td>5.049752</td>\n",
       "      <td>466.633012</td>\n",
       "      <td>1047.796982</td>\n",
       "      <td>53.192008</td>\n",
       "      <td>352.664772</td>\n",
       "      <td>14.058177</td>\n",
       "      <td>0.0</td>\n",
       "      <td>2.666642</td>\n",
       "      <td>23.562657</td>\n",
       "      <td>1.380953</td>\n",
       "      <td>31.475249</td>\n",
       "      <td>11.604535</td>\n",
       "      <td>6.936383</td>\n",
       "      <td>40.819941</td>\n",
       "    </tr>\n",
       "    <tr>\n",
       "      <th>min</th>\n",
       "      <td>1.000000</td>\n",
       "      <td>0.000000</td>\n",
       "      <td>17.000000</td>\n",
       "      <td>0.000000</td>\n",
       "      <td>0.000000</td>\n",
       "      <td>0.000000</td>\n",
       "      <td>0.0</td>\n",
       "      <td>0.000000</td>\n",
       "      <td>0.000000</td>\n",
       "      <td>0.000000</td>\n",
       "      <td>12.500000</td>\n",
       "      <td>0.000000</td>\n",
       "      <td>0.000000</td>\n",
       "      <td>0.000000</td>\n",
       "    </tr>\n",
       "    <tr>\n",
       "      <th>25%</th>\n",
       "      <td>5.000000</td>\n",
       "      <td>577.000000</td>\n",
       "      <td>596.000000</td>\n",
       "      <td>0.000000</td>\n",
       "      <td>896.000000</td>\n",
       "      <td>3.000000</td>\n",
       "      <td>0.0</td>\n",
       "      <td>0.000000</td>\n",
       "      <td>21.430000</td>\n",
       "      <td>0.000000</td>\n",
       "      <td>27.770000</td>\n",
       "      <td>0.000000</td>\n",
       "      <td>0.000000</td>\n",
       "      <td>0.000000</td>\n",
       "    </tr>\n",
       "    <tr>\n",
       "      <th>50%</th>\n",
       "      <td>9.000000</td>\n",
       "      <td>790.000000</td>\n",
       "      <td>798.000000</td>\n",
       "      <td>0.000000</td>\n",
       "      <td>1001.000000</td>\n",
       "      <td>6.000000</td>\n",
       "      <td>0.0</td>\n",
       "      <td>1.470000</td>\n",
       "      <td>28.570000</td>\n",
       "      <td>0.000000</td>\n",
       "      <td>61.760000</td>\n",
       "      <td>0.000000</td>\n",
       "      <td>0.000000</td>\n",
       "      <td>0.000000</td>\n",
       "    </tr>\n",
       "    <tr>\n",
       "      <th>75%</th>\n",
       "      <td>13.000000</td>\n",
       "      <td>991.000000</td>\n",
       "      <td>1012.000000</td>\n",
       "      <td>1.000000</td>\n",
       "      <td>1301.000000</td>\n",
       "      <td>12.000000</td>\n",
       "      <td>0.0</td>\n",
       "      <td>2.780000</td>\n",
       "      <td>53.850000</td>\n",
       "      <td>0.530000</td>\n",
       "      <td>77.780000</td>\n",
       "      <td>15.380000</td>\n",
       "      <td>0.000000</td>\n",
       "      <td>68.945787</td>\n",
       "    </tr>\n",
       "    <tr>\n",
       "      <th>max</th>\n",
       "      <td>17.000000</td>\n",
       "      <td>2079.000000</td>\n",
       "      <td>4774.000000</td>\n",
       "      <td>217.000000</td>\n",
       "      <td>1512.000000</td>\n",
       "      <td>48.000000</td>\n",
       "      <td>0.0</td>\n",
       "      <td>9.520000</td>\n",
       "      <td>81.250000</td>\n",
       "      <td>4.760000</td>\n",
       "      <td>100.000000</td>\n",
       "      <td>33.620000</td>\n",
       "      <td>24.270000</td>\n",
       "      <td>92.299427</td>\n",
       "    </tr>\n",
       "  </tbody>\n",
       "</table>\n",
       "</div>"
      ],
      "text/plain": [
       "         Trip_ID  Start_index   Stop_index  total_distance  eng_speed_mean  \\\n",
       "count  17.000000    17.000000    17.000000       17.000000       17.000000   \n",
       "mean    9.000000   787.352941  1049.470588       17.529412     1035.235294   \n",
       "std     5.049752   466.633012  1047.796982       53.192008      352.664772   \n",
       "min     1.000000     0.000000    17.000000        0.000000        0.000000   \n",
       "25%     5.000000   577.000000   596.000000        0.000000      896.000000   \n",
       "50%     9.000000   790.000000   798.000000        0.000000     1001.000000   \n",
       "75%    13.000000   991.000000  1012.000000        1.000000     1301.000000   \n",
       "max    17.000000  2079.000000  4774.000000      217.000000     1512.000000   \n",
       "\n",
       "       veh_speed_mean  red_zone_count  BSFC_rating_0  BSFC_rating_1  \\\n",
       "count       17.000000            17.0      17.000000      17.000000   \n",
       "mean        11.588235             0.0       2.102353      33.165882   \n",
       "std         14.058177             0.0       2.666642      23.562657   \n",
       "min          0.000000             0.0       0.000000       0.000000   \n",
       "25%          3.000000             0.0       0.000000      21.430000   \n",
       "50%          6.000000             0.0       1.470000      28.570000   \n",
       "75%         12.000000             0.0       2.780000      53.850000   \n",
       "max         48.000000             0.0       9.520000      81.250000   \n",
       "\n",
       "       BSFC_rating_2  BSFC_rating_3  BSFC_rating_4  BSFC_rating_5  \\\n",
       "count      17.000000      17.000000      17.000000      17.000000   \n",
       "mean        0.719412      54.462941       7.030000       2.518824   \n",
       "std         1.380953      31.475249      11.604535       6.936383   \n",
       "min         0.000000      12.500000       0.000000       0.000000   \n",
       "25%         0.000000      27.770000       0.000000       0.000000   \n",
       "50%         0.000000      61.760000       0.000000       0.000000   \n",
       "75%         0.530000      77.780000      15.380000       0.000000   \n",
       "max         4.760000     100.000000      33.620000      24.270000   \n",
       "\n",
       "       max_gear_util  \n",
       "count       8.000000  \n",
       "mean       29.147192  \n",
       "std        40.819941  \n",
       "min         0.000000  \n",
       "25%         0.000000  \n",
       "50%         0.000000  \n",
       "75%        68.945787  \n",
       "max        92.299427  "
      ]
     },
     "execution_count": 146,
     "metadata": {},
     "output_type": "execute_result"
    }
   ],
   "source": [
    "trip_info_df"
   ]
  },
  {
   "cell_type": "code",
   "execution_count": 23,
   "metadata": {
    "ExecuteTime": {
     "end_time": "2020-07-09T16:36:57.749118Z",
     "start_time": "2020-07-09T16:36:57.737085Z"
    }
   },
   "outputs": [],
   "source": [
    "def plot_trip_info(df):\n",
    "    sns.pairplot(df,x_vars='wheel_based_speed',y_vars='engine_speed',hue='transmission_current_gear',size=5)\n",
    "    sns.pairplot(df, x_vars='engine_speed', y_vars='actual_engine_percent_torque',hue='BSFC_rating',size=5)\n",
    "    plt.title(\"Trip\")\n",
    "    plt.show()\n",
    "    ## Summary trip consolidation\n",
    "    \n",
    "    \n",
    "    #average_eng_speed = round(df['engine_speed'].mean(),0)\n",
    "    #total_distance = df['vehicle_distance'].max()-df['vehicle_distance'].min()\n",
    "    #print(\"Average engine speed: \",average_eng_speed,\" rpm\")\n",
    "    #print(\"Average vehicle speed: \",average_veh_speed,\" kmph\")\n",
    "    #print(\"Red zone counts: \",red_zone_count,\" times\")\n",
    "    #print(\"Max gear util: \",max_gear_util,\" %\")\n",
    "    #print(\"BSFC zone 0 % :\", BSFC_rating_0)\n",
    "    #print(\"BSFC zone 1 % :\", BSFC_rating_1)\n",
    "    #print(\"BSFC zone 2 % :\", BSFC_rating_2)\n",
    "    #print(\"BSFC zone 3 % :\", BSFC_rating_3)\n",
    "    #print(\"BSFC zone 4 % :\", BSFC_rating_4)\n",
    "    #print(\"BSFC zone 5 % :\", BSFC_rating_5)\n",
    "    #print(\"trip_distance :\",total_distance)"
   ]
  },
  {
   "cell_type": "code",
   "execution_count": 24,
   "metadata": {
    "ExecuteTime": {
     "end_time": "2020-07-09T16:36:58.559032Z",
     "start_time": "2020-07-09T16:36:57.803685Z"
    }
   },
   "outputs": [
    {
     "data": {
      "image/png": "[encoded data removed]",
      "text/plain": [
       "<Figure size 501.25x360 with 1 Axes>"
      ]
     },
     "metadata": {},
     "output_type": "display_data"
    },
    {
     "data": {
      "image/png": "[encoded data removed]",
      "text/plain": [
       "<Figure size 428.5x360 with 1 Axes>"
      ]
     },
     "metadata": {},
     "output_type": "display_data"
    },
    {
     "name": "stdout",
     "output_type": "stream",
     "text": [
      "Average engine speed:  0.0  rpm\n",
      "Average vehicle speed:  0.0  kmph\n",
      "Red zone counts:  0  times\n",
      "Max gear util:  nan  %\n",
      "BSFC zone 0 % : 0.0\n",
      "BSFC zone 1 % : 0.0\n",
      "BSFC zone 2 % : 0.0\n",
      "BSFC zone 3 % : 100.0\n",
      "BSFC zone 4 % : 0.0\n",
      "BSFC zone 5 % : 0.0\n",
      "trip_distance : 0.0\n"
     ]
    },
    {
     "name": "stderr",
     "output_type": "stream",
     "text": [
      "C:\\Users\\devanandh.v\\AppData\\Local\\Continuum\\anaconda3\\lib\\site-packages\\ipykernel_launcher.py:10: RuntimeWarning: invalid value encountered in longlong_scalars\n",
      "  # Remove the CWD from sys.path while we load stuff.\n"
     ]
    }
   ],
   "source": [
    "plot_trip_info(trip[4])"
   ]
  },
  {
   "cell_type": "code",
   "execution_count": 25,
   "metadata": {
    "ExecuteTime": {
     "end_time": "2020-07-09T16:36:58.639257Z",
     "start_time": "2020-07-09T16:36:58.618200Z"
    }
   },
   "outputs": [
    {
     "data": {
      "text/plain": [
       "count    19.0\n",
       "mean      0.0\n",
       "std       0.0\n",
       "min       0.0\n",
       "25%       0.0\n",
       "50%       0.0\n",
       "75%       0.0\n",
       "max       0.0\n",
       "Name: vehicle_distance, dtype: float64"
      ]
     },
     "execution_count": 25,
     "metadata": {},
     "output_type": "execute_result"
    }
   ],
   "source": [
    "trip[4].vehicle_distance.describe()"
   ]
  },
  {
   "cell_type": "code",
   "execution_count": 26,
   "metadata": {
    "ExecuteTime": {
     "end_time": "2020-07-09T16:36:58.741552Z",
     "start_time": "2020-07-09T16:36:58.693914Z"
    }
   },
   "outputs": [
    {
     "data": {
      "text/plain": [
       "0     0.00\n",
       "1     0.00\n",
       "2     0.00\n",
       "3     0.00\n",
       "4     2.20\n",
       "      ... \n",
       "63    2.69\n",
       "64    4.43\n",
       "65    4.40\n",
       "66    2.63\n",
       "67    0.00\n",
       "Name: wheel_based_speed, Length: 68, dtype: float64"
      ]
     },
     "execution_count": 26,
     "metadata": {},
     "output_type": "execute_result"
    }
   ],
   "source": [
    "trip[5].wheel_based_speed"
   ]
  },
  {
   "cell_type": "code",
   "execution_count": null,
   "metadata": {},
   "outputs": [],
   "source": []
  }
 ],
 "metadata": {
  "kernelspec": {
   "display_name": "Python 3",
   "language": "python",
   "name": "python3"
  },
  "language_info": {
   "codemirror_mode": {
    "name": "ipython",
    "version": 3
   },
   "file_extension": ".py",
   "mimetype": "text/x-python",
   "name": "python",
   "nbconvert_exporter": "python",
   "pygments_lexer": "ipython3",
   "version": "3.6.5"
  }
 },
 "nbformat": 4,
 "nbformat_minor": 2
}
