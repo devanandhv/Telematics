{
 "cells": [
  {
   "cell_type": "code",
   "execution_count": 226,
   "metadata": {
    "ExecuteTime": {
     "end_time": "2020-07-05T16:25:30.177292Z",
     "start_time": "2020-07-05T16:25:30.103267Z"
    }
   },
   "outputs": [],
   "source": [
    "# Basic libraries import\n",
    "import pandas as pd\n",
    "import numpy as np\n",
    "import seaborn as sns\n",
    "import matplotlib.pyplot as plt\n",
    "%matplotlib tk"
   ]
  },
  {
   "cell_type": "code",
   "execution_count": 107,
   "metadata": {
    "ExecuteTime": {
     "end_time": "2020-07-05T11:45:21.479924Z",
     "start_time": "2020-07-05T11:45:21.416256Z"
    }
   },
   "outputs": [],
   "source": [
    "# tkinter GUI import\n",
    "import tkinter as tk1\n",
    "from tkinter.filedialog import askopenfilename"
   ]
  },
  {
   "cell_type": "code",
   "execution_count": 41,
   "metadata": {
    "ExecuteTime": {
     "end_time": "2020-07-04T11:23:11.672768Z",
     "start_time": "2020-07-04T11:23:11.655718Z"
    }
   },
   "outputs": [],
   "source": [
    "# Debugger import library if required\n",
    "from IPython.core.debugger import set_trace"
   ]
  },
  {
   "cell_type": "code",
   "execution_count": 217,
   "metadata": {
    "ExecuteTime": {
     "end_time": "2020-07-05T16:22:35.604774Z",
     "start_time": "2020-07-05T16:22:29.152705Z"
    }
   },
   "outputs": [],
   "source": [
    "# Import filename interactively\n",
    "root = tk1.Tk()\n",
    "#root.lift()\n",
    "root.attributes(\"-topmost\", True)\n",
    "root.withdraw()\n",
    "filename = askopenfilename()\n",
    "root.destroy()"
   ]
  },
  {
   "cell_type": "code",
   "execution_count": 218,
   "metadata": {
    "ExecuteTime": {
     "end_time": "2020-07-05T16:22:37.479825Z",
     "start_time": "2020-07-05T16:22:37.473810Z"
    }
   },
   "outputs": [
    {
     "data": {
      "text/plain": [
       "'D:/Projects/App/Code/MB1A3GCDXLRFE0093_2020-6-25_2020-06-27.csv'"
      ]
     },
     "execution_count": 218,
     "metadata": {},
     "output_type": "execute_result"
    }
   ],
   "source": [
    "filename"
   ]
  },
  {
   "cell_type": "code",
   "execution_count": 219,
   "metadata": {
    "ExecuteTime": {
     "end_time": "2020-07-05T16:22:39.534247Z",
     "start_time": "2020-07-05T16:22:37.835817Z"
    }
   },
   "outputs": [],
   "source": [
    "# Read the raw dataframe and read 'obu_timestamp' column as datetime format\n",
    "data = pd.read_csv(filename,\n",
    "                   parse_dates=['obu_timestamp'])"
   ]
  },
  {
   "cell_type": "code",
   "execution_count": 220,
   "metadata": {
    "ExecuteTime": {
     "end_time": "2020-07-05T16:22:39.593350Z",
     "start_time": "2020-07-05T16:22:39.587334Z"
    }
   },
   "outputs": [],
   "source": [
    "# Add an index column to the created dataframe\n",
    "data.reset_index(level=0, inplace=True)"
   ]
  },
  {
   "cell_type": "code",
   "execution_count": 221,
   "metadata": {
    "ExecuteTime": {
     "end_time": "2020-07-05T16:22:39.736268Z",
     "start_time": "2020-07-05T16:22:39.648029Z"
    }
   },
   "outputs": [
    {
     "name": "stdout",
     "output_type": "stream",
     "text": [
      "<class 'pandas.core.frame.DataFrame'>\n",
      "RangeIndex: 10572 entries, 0 to 10571\n",
      "Columns: 120 entries, index to fuel_level\n",
      "dtypes: datetime64[ns](1), float64(37), int64(78), object(4)\n",
      "memory usage: 9.7+ MB\n"
     ]
    }
   ],
   "source": [
    "# Verify dataframe dtypes and column entries\n",
    "data.info()"
   ]
  },
  {
   "cell_type": "code",
   "execution_count": 222,
   "metadata": {
    "ExecuteTime": {
     "end_time": "2020-07-05T16:22:39.930422Z",
     "start_time": "2020-07-05T16:22:39.789416Z"
    },
    "scrolled": true
   },
   "outputs": [
    {
     "data": {
      "text/html": [
       "<div>\n",
       "<style scoped>\n",
       "    .dataframe tbody tr th:only-of-type {\n",
       "        vertical-align: middle;\n",
       "    }\n",
       "\n",
       "    .dataframe tbody tr th {\n",
       "        vertical-align: top;\n",
       "    }\n",
       "\n",
       "    .dataframe thead th {\n",
       "        text-align: right;\n",
       "    }\n",
       "</style>\n",
       "<table border=\"1\" class=\"dataframe\">\n",
       "  <thead>\n",
       "    <tr style=\"text-align: right;\">\n",
       "      <th></th>\n",
       "      <th>index</th>\n",
       "      <th>S_No</th>\n",
       "      <th>obu_id</th>\n",
       "      <th>obu_timestamp</th>\n",
       "      <th>packet_sequence_id</th>\n",
       "      <th>p_frequency</th>\n",
       "      <th>latitude</th>\n",
       "      <th>longitude</th>\n",
       "      <th>altitude</th>\n",
       "      <th>heading</th>\n",
       "      <th>...</th>\n",
       "      <th>aft1_intake_nox</th>\n",
       "      <th>aft1_intake_nox_reading_stable</th>\n",
       "      <th>aft1_intermediate_gas</th>\n",
       "      <th>dpf1_regen_needed</th>\n",
       "      <th>low_adblue_level_warning</th>\n",
       "      <th>eng_requested_torque_limit</th>\n",
       "      <th>pf_actreginh_dueto</th>\n",
       "      <th>aftertreatment1_outlet_nox</th>\n",
       "      <th>vin</th>\n",
       "      <th>fuel_level</th>\n",
       "    </tr>\n",
       "  </thead>\n",
       "  <tbody>\n",
       "    <tr>\n",
       "      <th>0</th>\n",
       "      <td>0</td>\n",
       "      <td>1</td>\n",
       "      <td>1911271039</td>\n",
       "      <td>2020-06-25 09:38:12</td>\n",
       "      <td>54373</td>\n",
       "      <td>6</td>\n",
       "      <td>22.482505</td>\n",
       "      <td>70.048158</td>\n",
       "      <td>21.44</td>\n",
       "      <td>0</td>\n",
       "      <td>...</td>\n",
       "      <td>3012.8</td>\n",
       "      <td>3</td>\n",
       "      <td>0.3</td>\n",
       "      <td>0</td>\n",
       "      <td>0</td>\n",
       "      <td>-125</td>\n",
       "      <td>0</td>\n",
       "      <td>0.0</td>\n",
       "      <td>MB1A3GCDXLRFE0093</td>\n",
       "      <td>185.0</td>\n",
       "    </tr>\n",
       "    <tr>\n",
       "      <th>1</th>\n",
       "      <td>1</td>\n",
       "      <td>2</td>\n",
       "      <td>1911271039</td>\n",
       "      <td>2020-06-25 09:38:18</td>\n",
       "      <td>54374</td>\n",
       "      <td>6</td>\n",
       "      <td>22.482505</td>\n",
       "      <td>70.048158</td>\n",
       "      <td>21.44</td>\n",
       "      <td>0</td>\n",
       "      <td>...</td>\n",
       "      <td>3012.8</td>\n",
       "      <td>3</td>\n",
       "      <td>0.5</td>\n",
       "      <td>0</td>\n",
       "      <td>0</td>\n",
       "      <td>-125</td>\n",
       "      <td>0</td>\n",
       "      <td>0.0</td>\n",
       "      <td>MB1A3GCDXLRFE0093</td>\n",
       "      <td>185.0</td>\n",
       "    </tr>\n",
       "    <tr>\n",
       "      <th>2</th>\n",
       "      <td>2</td>\n",
       "      <td>3</td>\n",
       "      <td>1911271039</td>\n",
       "      <td>2020-06-25 09:38:24</td>\n",
       "      <td>54375</td>\n",
       "      <td>6</td>\n",
       "      <td>22.482505</td>\n",
       "      <td>70.048158</td>\n",
       "      <td>21.44</td>\n",
       "      <td>0</td>\n",
       "      <td>...</td>\n",
       "      <td>3012.8</td>\n",
       "      <td>3</td>\n",
       "      <td>0.6</td>\n",
       "      <td>0</td>\n",
       "      <td>0</td>\n",
       "      <td>-125</td>\n",
       "      <td>0</td>\n",
       "      <td>0.0</td>\n",
       "      <td>MB1A3GCDXLRFE0093</td>\n",
       "      <td>185.0</td>\n",
       "    </tr>\n",
       "    <tr>\n",
       "      <th>3</th>\n",
       "      <td>3</td>\n",
       "      <td>4</td>\n",
       "      <td>1911271039</td>\n",
       "      <td>2020-06-25 09:38:30</td>\n",
       "      <td>54376</td>\n",
       "      <td>6</td>\n",
       "      <td>22.482505</td>\n",
       "      <td>70.048158</td>\n",
       "      <td>21.44</td>\n",
       "      <td>0</td>\n",
       "      <td>...</td>\n",
       "      <td>3012.8</td>\n",
       "      <td>3</td>\n",
       "      <td>0.4</td>\n",
       "      <td>0</td>\n",
       "      <td>0</td>\n",
       "      <td>-125</td>\n",
       "      <td>0</td>\n",
       "      <td>0.0</td>\n",
       "      <td>MB1A3GCDXLRFE0093</td>\n",
       "      <td>185.0</td>\n",
       "    </tr>\n",
       "    <tr>\n",
       "      <th>4</th>\n",
       "      <td>4</td>\n",
       "      <td>5</td>\n",
       "      <td>1911271039</td>\n",
       "      <td>2020-06-25 09:38:36</td>\n",
       "      <td>54377</td>\n",
       "      <td>6</td>\n",
       "      <td>22.482505</td>\n",
       "      <td>70.048158</td>\n",
       "      <td>21.44</td>\n",
       "      <td>0</td>\n",
       "      <td>...</td>\n",
       "      <td>3012.8</td>\n",
       "      <td>3</td>\n",
       "      <td>0.3</td>\n",
       "      <td>0</td>\n",
       "      <td>0</td>\n",
       "      <td>-125</td>\n",
       "      <td>0</td>\n",
       "      <td>0.0</td>\n",
       "      <td>MB1A3GCDXLRFE0093</td>\n",
       "      <td>185.0</td>\n",
       "    </tr>\n",
       "  </tbody>\n",
       "</table>\n",
       "<p>5 rows × 120 columns</p>\n",
       "</div>"
      ],
      "text/plain": [
       "   index  S_No      obu_id       obu_timestamp  packet_sequence_id  \\\n",
       "0      0     1  1911271039 2020-06-25 09:38:12               54373   \n",
       "1      1     2  1911271039 2020-06-25 09:38:18               54374   \n",
       "2      2     3  1911271039 2020-06-25 09:38:24               54375   \n",
       "3      3     4  1911271039 2020-06-25 09:38:30               54376   \n",
       "4      4     5  1911271039 2020-06-25 09:38:36               54377   \n",
       "\n",
       "   p_frequency   latitude  longitude  altitude  heading  ... aft1_intake_nox  \\\n",
       "0            6  22.482505  70.048158     21.44        0  ...          3012.8   \n",
       "1            6  22.482505  70.048158     21.44        0  ...          3012.8   \n",
       "2            6  22.482505  70.048158     21.44        0  ...          3012.8   \n",
       "3            6  22.482505  70.048158     21.44        0  ...          3012.8   \n",
       "4            6  22.482505  70.048158     21.44        0  ...          3012.8   \n",
       "\n",
       "   aft1_intake_nox_reading_stable  aft1_intermediate_gas dpf1_regen_needed  \\\n",
       "0                               3                    0.3                 0   \n",
       "1                               3                    0.5                 0   \n",
       "2                               3                    0.6                 0   \n",
       "3                               3                    0.4                 0   \n",
       "4                               3                    0.3                 0   \n",
       "\n",
       "   low_adblue_level_warning eng_requested_torque_limit  pf_actreginh_dueto  \\\n",
       "0                         0                       -125                   0   \n",
       "1                         0                       -125                   0   \n",
       "2                         0                       -125                   0   \n",
       "3                         0                       -125                   0   \n",
       "4                         0                       -125                   0   \n",
       "\n",
       "   aftertreatment1_outlet_nox                vin  fuel_level  \n",
       "0                         0.0  MB1A3GCDXLRFE0093       185.0  \n",
       "1                         0.0  MB1A3GCDXLRFE0093       185.0  \n",
       "2                         0.0  MB1A3GCDXLRFE0093       185.0  \n",
       "3                         0.0  MB1A3GCDXLRFE0093       185.0  \n",
       "4                         0.0  MB1A3GCDXLRFE0093       185.0  \n",
       "\n",
       "[5 rows x 120 columns]"
      ]
     },
     "execution_count": 222,
     "metadata": {},
     "output_type": "execute_result"
    }
   ],
   "source": [
    "# Peep into the first 5 lines of data\n",
    "data.head(5)"
   ]
  },
  {
   "cell_type": "code",
   "execution_count": 223,
   "metadata": {
    "ExecuteTime": {
     "end_time": "2020-07-05T16:22:40.692902Z",
     "start_time": "2020-07-05T16:22:40.688890Z"
    }
   },
   "outputs": [],
   "source": [
    "data['BSFC_rating'] = 0"
   ]
  },
  {
   "cell_type": "code",
   "execution_count": 224,
   "metadata": {
    "ExecuteTime": {
     "end_time": "2020-07-05T16:22:49.020817Z",
     "start_time": "2020-07-05T16:22:41.301382Z"
    }
   },
   "outputs": [],
   "source": [
    "# BSFC zone rating\n",
    "for rows in data.index: # loops through entire dataframe based on size\n",
    "    #set_trace()\n",
    "    ##\n",
    "    if(data.engine_speed.iloc[rows]>2300):\n",
    "        data.at[rows,'BSFC_rating'] = 1\n",
    "    ##\n",
    "    if((data.engine_speed.iloc[rows] < 2300) & \n",
    "       (data.engine_speed.iloc[rows] > 2100) &\n",
    "       (data.actual_engine_percent_torque.iloc[rows] > 40)):\n",
    "        data.at[rows,'BSFC_rating'] = 3\n",
    "    if((data.engine_speed.iloc[rows] < 2300) & \n",
    "       (data.engine_speed.iloc[rows] > 2100) &\n",
    "       (data.actual_engine_percent_torque.iloc[rows] < 40)):\n",
    "        data.at[rows,'BSFC_rating'] = 1\n",
    "    ##\n",
    "    if((data.engine_speed.iloc[rows] < 2100) & \n",
    "       (data.engine_speed.iloc[rows] > 1900) &\n",
    "       (data.actual_engine_percent_torque.iloc[rows] > 40)):\n",
    "        data.at[rows,'BSFC_rating'] = 4\n",
    "    if((data.engine_speed.iloc[rows] < 2100) & \n",
    "       (data.engine_speed.iloc[rows] > 1900) &\n",
    "       (data.actual_engine_percent_torque.iloc[rows] < 40)):\n",
    "        data.at[rows,'BSFC_rating'] = 1\n",
    "    ##\n",
    "    if((data.engine_speed.iloc[rows] < 1900) & \n",
    "       (data.engine_speed.iloc[rows] > 1200) &\n",
    "       (data.actual_engine_percent_torque.iloc[rows] > 60)):\n",
    "        data.at[rows,'BSFC_rating'] = 5\n",
    "    if((data.engine_speed.iloc[rows] < 1900) & \n",
    "       (data.engine_speed.iloc[rows] > 1200) &\n",
    "       (data.actual_engine_percent_torque.iloc[rows] < 60) &\n",
    "       (data.actual_engine_percent_torque.iloc[rows] > 40)):\n",
    "        data.at[rows,'BSFC_rating'] = 4\n",
    "    if((data.engine_speed.iloc[rows] < 1900) & \n",
    "       (data.engine_speed.iloc[rows] > 1200) &\n",
    "       (data.actual_engine_percent_torque.iloc[rows] < 40)):\n",
    "        data.at[rows,'BSFC_rating'] = 1\n",
    "    ##\n",
    "    if((data.engine_speed.iloc[rows] < 1200) & \n",
    "       (data.engine_speed.iloc[rows] > 1000) &\n",
    "       (data.actual_engine_percent_torque.iloc[rows] > 40)):\n",
    "        data.at[rows,'BSFC_rating'] = 3\n",
    "    if((data.engine_speed.iloc[rows] < 1200) & \n",
    "       (data.engine_speed.iloc[rows] > 1000) &\n",
    "       (data.actual_engine_percent_torque.iloc[rows] < 40)):\n",
    "        data.at[rows,'BSFC_rating'] = 1\n",
    "    ##\n",
    "    if((data.engine_speed.iloc[rows] < 1000) &\n",
    "       (data.actual_engine_percent_torque.iloc[rows] > 40)):\n",
    "        data.at[rows,'BSFC_rating'] = 2\n",
    "    if((data.engine_speed.iloc[rows] < 1000) & \n",
    "       (data.actual_engine_percent_torque.iloc[rows] < 40) & \n",
    "       (data.actual_engine_percent_torque.iloc[rows] > 20)):\n",
    "        data.at[rows,'BSFC_rating'] = 1\n",
    "    if((data.engine_speed.iloc[rows] < 1000) & \n",
    "       (data.actual_engine_percent_torque.iloc[rows] < 20)):\n",
    "        data.at[rows,'BSFC_rating'] = 3"
   ]
  },
  {
   "cell_type": "code",
   "execution_count": 252,
   "metadata": {
    "ExecuteTime": {
     "end_time": "2020-07-05T16:46:31.122120Z",
     "start_time": "2020-07-05T16:46:31.111092Z"
    }
   },
   "outputs": [
    {
     "data": {
      "text/plain": [
       "1    9630\n",
       "0     942\n",
       "Name: ignition_status, dtype: int64"
      ]
     },
     "execution_count": 252,
     "metadata": {},
     "output_type": "execute_result"
    }
   ],
   "source": [
    "# Check total instances of Igntion On and OFF\n",
    "data['ignition_status'].value_counts()"
   ]
  },
  {
   "cell_type": "code",
   "execution_count": 253,
   "metadata": {
    "ExecuteTime": {
     "end_time": "2020-07-05T16:46:35.108871Z",
     "start_time": "2020-07-05T16:46:31.578070Z"
    },
    "code_folding": [],
    "scrolled": false
   },
   "outputs": [
    {
     "name": "stdout",
     "output_type": "stream",
     "text": [
      "[[1, 0, 5], [2, 25, 35], [3, 55, 59], [4, 79, 83], [5, 103, 376], [6, 396, 810], [7, 830, 1821], [8, 1841, 3297], [9, 3317, 3354], [10, 3374, 3471], [11, 3487, 3500], [12, 3520, 3522], [13, 3543, 3551], [14, 3571, 3724], [15, 3744, 4511], [16, 4531, 4733], [17, 4753, 4916], [18, 4936, 5164], [19, 5184, 5193], [20, 5213, 5214], [21, 5234, 5261], [22, 5281, 5309], [23, 5329, 5331], [24, 5351, 5366], [25, 5386, 5401], [26, 5421, 5429], [27, 5449, 5558], [28, 5578, 5627], [29, 5628, 5653], [30, 5673, 5840], [31, 5860, 5958], [32, 5977, 5983], [33, 6003, 6215], [34, 6236, 6943], [35, 6964, 6979], [36, 6999, 7541], [37, 7562, 8332], [38, 8352, 8511], [39, 8531, 9011], [40, 9031, 9897], [41, 9917, 10038], [42, 10058, 10347], [43, 10367, 10370], [44, 10390, 10397], [45, 10418, 10467], [46, 10487, 10503], [47, 10544, 10552]]\n"
     ]
    }
   ],
   "source": [
    "#-----------------------------\n",
    "### No. of trips extractor \n",
    "\n",
    "# Variable initilization\n",
    "trip_id = 1 \n",
    "trip_info_list = [] \n",
    "start_index = 0 \n",
    "stop_index = 0 \n",
    "rows = 0 \n",
    "x = 0 \n",
    "\n",
    "for rows in data.index: # loops through entire dataframe based on size\n",
    "    \n",
    "        for rows in data.index[start_index:]:          # Loop through the subdataframe starting with the latest start index\n",
    "            #set_trace()                               # Debugging sequence if reqd remove '#' and run for line by line debugging\n",
    "            if(data['ignition_status'].iloc[rows] == 1): # Enter loop if Ingition ON is detected\n",
    "                start_index = data['index'].iloc[rows]   # Assign the first index of satisfied condition for Ignition ON\n",
    "                for x in data.index[rows:]:              # For this loop sequence determining the next instance of Ignition OFF\n",
    "                    if(data['ignition_status'].iloc[x] == 0): # Stop at instance when Ignition is detected OFF\n",
    "                        stop_index = data['index'].iloc[x]    # Store the index as latest stop index\n",
    "                        break \n",
    "                if(start_index<=stop_index):                  # Proceed only if stop index is greater than start index\n",
    "                    trip_info_temp=[trip_id,start_index,stop_index] # Temporary row list containing parameters\n",
    "                    trip_info_list.append(trip_info_temp)     # Append to the trip info list\n",
    "                    start_index=stop_index                   # Assign the latest stop index as the next start index to initiate next subdataframe\n",
    "                    trip_id +=1 \n",
    "                else:                                        # Force exit the entire loop, if start index greater than stop index, indicating the source dataframe does not end with Ignition OFF\n",
    "                    break\n",
    "                break \n",
    "\n",
    "print(trip_info_list)  # list all trip info in the current dataset\n",
    "\n",
    "# ---------------------------"
   ]
  },
  {
   "cell_type": "code",
   "execution_count": 254,
   "metadata": {
    "ExecuteTime": {
     "end_time": "2020-07-05T16:46:35.171041Z",
     "start_time": "2020-07-05T16:46:35.164023Z"
    }
   },
   "outputs": [],
   "source": [
    "trip_info_df = pd.DataFrame(trip_info_list,\n",
    "                            columns=['Trip_ID', \"Start_index\", \"Stop_index\"\n",
    "                                     ])  # Convert list to dataframe"
   ]
  },
  {
   "cell_type": "code",
   "execution_count": 255,
   "metadata": {
    "ExecuteTime": {
     "end_time": "2020-07-05T16:46:35.281013Z",
     "start_time": "2020-07-05T16:46:35.224993Z"
    }
   },
   "outputs": [
    {
     "data": {
      "text/html": [
       "<div>\n",
       "<style scoped>\n",
       "    .dataframe tbody tr th:only-of-type {\n",
       "        vertical-align: middle;\n",
       "    }\n",
       "\n",
       "    .dataframe tbody tr th {\n",
       "        vertical-align: top;\n",
       "    }\n",
       "\n",
       "    .dataframe thead th {\n",
       "        text-align: right;\n",
       "    }\n",
       "</style>\n",
       "<table border=\"1\" class=\"dataframe\">\n",
       "  <thead>\n",
       "    <tr style=\"text-align: right;\">\n",
       "      <th></th>\n",
       "      <th>Trip_ID</th>\n",
       "      <th>Start_index</th>\n",
       "      <th>Stop_index</th>\n",
       "    </tr>\n",
       "  </thead>\n",
       "  <tbody>\n",
       "    <tr>\n",
       "      <th>0</th>\n",
       "      <td>1</td>\n",
       "      <td>0</td>\n",
       "      <td>5</td>\n",
       "    </tr>\n",
       "    <tr>\n",
       "      <th>1</th>\n",
       "      <td>2</td>\n",
       "      <td>25</td>\n",
       "      <td>35</td>\n",
       "    </tr>\n",
       "    <tr>\n",
       "      <th>2</th>\n",
       "      <td>3</td>\n",
       "      <td>55</td>\n",
       "      <td>59</td>\n",
       "    </tr>\n",
       "    <tr>\n",
       "      <th>3</th>\n",
       "      <td>4</td>\n",
       "      <td>79</td>\n",
       "      <td>83</td>\n",
       "    </tr>\n",
       "    <tr>\n",
       "      <th>4</th>\n",
       "      <td>5</td>\n",
       "      <td>103</td>\n",
       "      <td>376</td>\n",
       "    </tr>\n",
       "  </tbody>\n",
       "</table>\n",
       "</div>"
      ],
      "text/plain": [
       "   Trip_ID  Start_index  Stop_index\n",
       "0        1            0           5\n",
       "1        2           25          35\n",
       "2        3           55          59\n",
       "3        4           79          83\n",
       "4        5          103         376"
      ]
     },
     "execution_count": 255,
     "metadata": {},
     "output_type": "execute_result"
    }
   ],
   "source": [
    "trip_info_df.head(5) # Trip_info dataframe view"
   ]
  },
  {
   "cell_type": "code",
   "execution_count": 256,
   "metadata": {
    "ExecuteTime": {
     "end_time": "2020-07-05T16:46:35.385856Z",
     "start_time": "2020-07-05T16:46:35.334721Z"
    }
   },
   "outputs": [
    {
     "name": "stdout",
     "output_type": "stream",
     "text": [
      "Total trips undertaken: 47\n"
     ]
    }
   ],
   "source": [
    "print(\"Total trips undertaken:\", trip_info_df['Trip_ID'].count())"
   ]
  },
  {
   "cell_type": "code",
   "execution_count": 257,
   "metadata": {
    "ExecuteTime": {
     "end_time": "2020-07-05T16:46:35.476518Z",
     "start_time": "2020-07-05T16:46:35.439451Z"
    }
   },
   "outputs": [],
   "source": [
    "trip={}"
   ]
  },
  {
   "cell_type": "code",
   "execution_count": 258,
   "metadata": {
    "ExecuteTime": {
     "end_time": "2020-07-05T16:46:35.720108Z",
     "start_time": "2020-07-05T16:46:35.530979Z"
    }
   },
   "outputs": [],
   "source": [
    "# Generate new dataframes with trip[trip_ID] for each trip_ID\n",
    "for trips in trip_info_df.index:\n",
    "    #set_trace()\n",
    "    trip[trips] = data.iloc[trip_info_df.Start_index[trips]:trip_info_df.Stop_index[trips]]\n",
    "    trip[trips].reset_index(inplace=True)\n",
    "    trip[trips]= trip[trips].drop(axis=1,columns=['index','level_0'])"
   ]
  },
  {
   "cell_type": "code",
   "execution_count": 259,
   "metadata": {
    "ExecuteTime": {
     "end_time": "2020-07-05T16:46:35.806878Z",
     "start_time": "2020-07-05T16:46:35.773822Z"
    }
   },
   "outputs": [
    {
     "data": {
      "text/html": [
       "<div>\n",
       "<style scoped>\n",
       "    .dataframe tbody tr th:only-of-type {\n",
       "        vertical-align: middle;\n",
       "    }\n",
       "\n",
       "    .dataframe tbody tr th {\n",
       "        vertical-align: top;\n",
       "    }\n",
       "\n",
       "    .dataframe thead th {\n",
       "        text-align: right;\n",
       "    }\n",
       "</style>\n",
       "<table border=\"1\" class=\"dataframe\">\n",
       "  <thead>\n",
       "    <tr style=\"text-align: right;\">\n",
       "      <th></th>\n",
       "      <th>S_No</th>\n",
       "      <th>obu_id</th>\n",
       "      <th>obu_timestamp</th>\n",
       "      <th>packet_sequence_id</th>\n",
       "      <th>p_frequency</th>\n",
       "      <th>latitude</th>\n",
       "      <th>longitude</th>\n",
       "      <th>altitude</th>\n",
       "      <th>heading</th>\n",
       "      <th>packet_status</th>\n",
       "      <th>...</th>\n",
       "      <th>aft1_intake_nox_reading_stable</th>\n",
       "      <th>aft1_intermediate_gas</th>\n",
       "      <th>dpf1_regen_needed</th>\n",
       "      <th>low_adblue_level_warning</th>\n",
       "      <th>eng_requested_torque_limit</th>\n",
       "      <th>pf_actreginh_dueto</th>\n",
       "      <th>aftertreatment1_outlet_nox</th>\n",
       "      <th>vin</th>\n",
       "      <th>fuel_level</th>\n",
       "      <th>BSFC_rating</th>\n",
       "    </tr>\n",
       "  </thead>\n",
       "  <tbody>\n",
       "    <tr>\n",
       "      <th>0</th>\n",
       "      <td>80</td>\n",
       "      <td>1911271039</td>\n",
       "      <td>2020-06-25 12:00:36</td>\n",
       "      <td>54452</td>\n",
       "      <td>6</td>\n",
       "      <td>22.482613</td>\n",
       "      <td>70.047970</td>\n",
       "      <td>0.0</td>\n",
       "      <td>0</td>\n",
       "      <td>A</td>\n",
       "      <td>...</td>\n",
       "      <td>3</td>\n",
       "      <td>0.5</td>\n",
       "      <td>0</td>\n",
       "      <td>0</td>\n",
       "      <td>-125</td>\n",
       "      <td>0</td>\n",
       "      <td>0.0</td>\n",
       "      <td>MB1A3GCDXLRFE0093</td>\n",
       "      <td>185.0</td>\n",
       "      <td>1</td>\n",
       "    </tr>\n",
       "    <tr>\n",
       "      <th>1</th>\n",
       "      <td>81</td>\n",
       "      <td>1911271039</td>\n",
       "      <td>2020-06-25 12:00:42</td>\n",
       "      <td>54453</td>\n",
       "      <td>6</td>\n",
       "      <td>22.482589</td>\n",
       "      <td>70.047965</td>\n",
       "      <td>0.0</td>\n",
       "      <td>0</td>\n",
       "      <td>A</td>\n",
       "      <td>...</td>\n",
       "      <td>3</td>\n",
       "      <td>0.3</td>\n",
       "      <td>0</td>\n",
       "      <td>0</td>\n",
       "      <td>-125</td>\n",
       "      <td>0</td>\n",
       "      <td>0.0</td>\n",
       "      <td>MB1A3GCDXLRFE0093</td>\n",
       "      <td>185.0</td>\n",
       "      <td>3</td>\n",
       "    </tr>\n",
       "    <tr>\n",
       "      <th>2</th>\n",
       "      <td>82</td>\n",
       "      <td>1911271039</td>\n",
       "      <td>2020-06-25 12:00:48</td>\n",
       "      <td>54454</td>\n",
       "      <td>6</td>\n",
       "      <td>22.482549</td>\n",
       "      <td>70.047944</td>\n",
       "      <td>0.0</td>\n",
       "      <td>0</td>\n",
       "      <td>A</td>\n",
       "      <td>...</td>\n",
       "      <td>3</td>\n",
       "      <td>0.3</td>\n",
       "      <td>0</td>\n",
       "      <td>0</td>\n",
       "      <td>-125</td>\n",
       "      <td>0</td>\n",
       "      <td>0.0</td>\n",
       "      <td>MB1A3GCDXLRFE0093</td>\n",
       "      <td>185.0</td>\n",
       "      <td>3</td>\n",
       "    </tr>\n",
       "    <tr>\n",
       "      <th>3</th>\n",
       "      <td>83</td>\n",
       "      <td>1911271039</td>\n",
       "      <td>2020-06-25 12:00:54</td>\n",
       "      <td>54455</td>\n",
       "      <td>6</td>\n",
       "      <td>22.482534</td>\n",
       "      <td>70.047978</td>\n",
       "      <td>0.0</td>\n",
       "      <td>0</td>\n",
       "      <td>A</td>\n",
       "      <td>...</td>\n",
       "      <td>3</td>\n",
       "      <td>0.3</td>\n",
       "      <td>0</td>\n",
       "      <td>0</td>\n",
       "      <td>-125</td>\n",
       "      <td>0</td>\n",
       "      <td>0.0</td>\n",
       "      <td>MB1A3GCDXLRFE0093</td>\n",
       "      <td>185.0</td>\n",
       "      <td>3</td>\n",
       "    </tr>\n",
       "  </tbody>\n",
       "</table>\n",
       "<p>4 rows × 120 columns</p>\n",
       "</div>"
      ],
      "text/plain": [
       "   S_No      obu_id       obu_timestamp  packet_sequence_id  p_frequency  \\\n",
       "0    80  1911271039 2020-06-25 12:00:36               54452            6   \n",
       "1    81  1911271039 2020-06-25 12:00:42               54453            6   \n",
       "2    82  1911271039 2020-06-25 12:00:48               54454            6   \n",
       "3    83  1911271039 2020-06-25 12:00:54               54455            6   \n",
       "\n",
       "    latitude  longitude  altitude  heading packet_status  ...  \\\n",
       "0  22.482613  70.047970       0.0        0             A  ...   \n",
       "1  22.482589  70.047965       0.0        0             A  ...   \n",
       "2  22.482549  70.047944       0.0        0             A  ...   \n",
       "3  22.482534  70.047978       0.0        0             A  ...   \n",
       "\n",
       "   aft1_intake_nox_reading_stable  aft1_intermediate_gas dpf1_regen_needed  \\\n",
       "0                               3                    0.5                 0   \n",
       "1                               3                    0.3                 0   \n",
       "2                               3                    0.3                 0   \n",
       "3                               3                    0.3                 0   \n",
       "\n",
       "   low_adblue_level_warning eng_requested_torque_limit  pf_actreginh_dueto  \\\n",
       "0                         0                       -125                   0   \n",
       "1                         0                       -125                   0   \n",
       "2                         0                       -125                   0   \n",
       "3                         0                       -125                   0   \n",
       "\n",
       "   aftertreatment1_outlet_nox                vin  fuel_level  BSFC_rating  \n",
       "0                         0.0  MB1A3GCDXLRFE0093       185.0            1  \n",
       "1                         0.0  MB1A3GCDXLRFE0093       185.0            3  \n",
       "2                         0.0  MB1A3GCDXLRFE0093       185.0            3  \n",
       "3                         0.0  MB1A3GCDXLRFE0093       185.0            3  \n",
       "\n",
       "[4 rows x 120 columns]"
      ]
     },
     "execution_count": 259,
     "metadata": {},
     "output_type": "execute_result"
    }
   ],
   "source": [
    "trip[3]"
   ]
  },
  {
   "cell_type": "code",
   "execution_count": 262,
   "metadata": {
    "ExecuteTime": {
     "end_time": "2020-07-05T16:47:42.345976Z",
     "start_time": "2020-07-05T16:47:42.335951Z"
    }
   },
   "outputs": [],
   "source": [
    "def plot_trip_info(df):\n",
    "    sns.pairplot(df,x_vars='wheel_based_speed',y_vars='engine_speed',hue='transmission_current_gear',size=5)\n",
    "    sns.pairplot(df, x_vars='engine_speed', y_vars='actual_engine_percent_torque',hue='BSFC_rating',size=5)\n",
    "    plt.title(\"Trip\")\n",
    "    plt.show()\n",
    "    ## Summary trip calculations\n",
    "    average_eng_speed = round(df['engine_speed'].mean(),0)\n",
    "    average_veh_speed = round(df['wheel_based_speed'].mean(),0)\n",
    "    red_zone_count = df[df['engine_speed']>2500].engine_speed.count()\n",
    "    max_gear_util = round(df[df.transmission_current_gear>(df.transmission_current_gear.max()-1)].transmission_current_gear.sum()/df.transmission_current_gear.sum()*100,2)\n",
    "    BSFC_rating_0=round(df[df['BSFC_rating']==0].BSFC_rating.count()/df.BSFC_rating.count()*100,2)\n",
    "    BSFC_rating_1=round(df[df['BSFC_rating']==1].BSFC_rating.count()/df.BSFC_rating.count()*100,2)\n",
    "    BSFC_rating_2=round(df[df['BSFC_rating']==2].BSFC_rating.count()/df.BSFC_rating.count()*100,2)\n",
    "    BSFC_rating_3=round(df[df['BSFC_rating']==3].BSFC_rating.count()/df.BSFC_rating.count()*100,2)\n",
    "    BSFC_rating_4=round(df[df['BSFC_rating']==4].BSFC_rating.count()/df.BSFC_rating.count()*100,2)\n",
    "    BSFC_rating_5=round(df[df['BSFC_rating']==5].BSFC_rating.count()/df.BSFC_rating.count()*100,2)\n",
    "    \n",
    "    print(\"Average engine speed: \",average_eng_speed,\" rpm\")\n",
    "    print(\"Average vehicle speed: \",average_veh_speed,\" kmph\")\n",
    "    print(\"Red zone counts: \",red_zone_count,\" times\")\n",
    "    print(\"Max gear util: \",max_gear_util,\" %\")\n",
    "    print(\"BSFC zone 0 % :\", BSFC_rating_0)\n",
    "    print(\"BSFC zone 1 % :\", BSFC_rating_1)\n",
    "    print(\"BSFC zone 2 % :\", BSFC_rating_2)\n",
    "    print(\"BSFC zone 3 % :\", BSFC_rating_3)\n",
    "    print(\"BSFC zone 4 % :\", BSFC_rating_4)\n",
    "    print(\"BSFC zone 5 % :\", BSFC_rating_5)"
   ]
  },
  {
   "cell_type": "code",
   "execution_count": 263,
   "metadata": {
    "ExecuteTime": {
     "end_time": "2020-07-05T16:47:46.135092Z",
     "start_time": "2020-07-05T16:47:45.420650Z"
    }
   },
   "outputs": [
    {
     "name": "stdout",
     "output_type": "stream",
     "text": [
      "Average engine speed:  1193.0  rpm\n",
      "Average vehicle speed:  21.0  kmph\n",
      "Red zone counts:  0  times\n",
      "Max gear util:  2.65  %\n",
      "BSFC zone 0 % : 2.2\n",
      "BSFC zone 1 % : 52.38\n",
      "BSFC zone 2 % : 5.49\n",
      "BSFC zone 3 % : 26.37\n",
      "BSFC zone 4 % : 7.33\n",
      "BSFC zone 5 % : 6.23\n"
     ]
    }
   ],
   "source": [
    "plot_trip_info(trip[4])"
   ]
  },
  {
   "cell_type": "code",
   "execution_count": null,
   "metadata": {},
   "outputs": [],
   "source": []
  },
  {
   "cell_type": "code",
   "execution_count": null,
   "metadata": {},
   "outputs": [],
   "source": []
  }
 ],
 "metadata": {
  "kernelspec": {
   "display_name": "Python 3",
   "language": "python",
   "name": "python3"
  },
  "language_info": {
   "codemirror_mode": {
    "name": "ipython",
    "version": 3
   },
   "file_extension": ".py",
   "mimetype": "text/x-python",
   "name": "python",
   "nbconvert_exporter": "python",
   "pygments_lexer": "ipython3",
   "version": "3.6.5"
  }
 },
 "nbformat": 4,
 "nbformat_minor": 2
}
