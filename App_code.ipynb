{
 "cells": [
  {
   "cell_type": "code",
   "execution_count": 11,
   "metadata": {
    "ExecuteTime": {
     "end_time": "2020-07-02T21:14:13.592908Z",
     "start_time": "2020-07-02T21:14:13.574859Z"
    }
   },
   "outputs": [],
   "source": [
    "#basic libraries import\n",
    "import pandas as pd\n",
    "import numpy as np"
   ]
  },
  {
   "cell_type": "code",
   "execution_count": 51,
   "metadata": {
    "ExecuteTime": {
     "end_time": "2020-07-02T21:33:57.560253Z",
     "start_time": "2020-07-02T21:33:57.455972Z"
    }
   },
   "outputs": [],
   "source": [
    "data=pd.read_csv(\"MB1ASGCC1LRFE0185_2020-6-17_2020-06-19.csv\",parse_dates=['obu_timestamp'])"
   ]
  },
  {
   "cell_type": "code",
   "execution_count": 52,
   "metadata": {
    "ExecuteTime": {
     "end_time": "2020-07-02T21:33:58.202207Z",
     "start_time": "2020-07-02T21:33:58.196191Z"
    }
   },
   "outputs": [],
   "source": [
    "data.reset_index(level=0, inplace=True) "
   ]
  },
  {
   "cell_type": "code",
   "execution_count": 53,
   "metadata": {
    "ExecuteTime": {
     "end_time": "2020-07-02T21:33:58.410761Z",
     "start_time": "2020-07-02T21:33:58.391713Z"
    }
   },
   "outputs": [
    {
     "name": "stdout",
     "output_type": "stream",
     "text": [
      "<class 'pandas.core.frame.DataFrame'>\n",
      "RangeIndex: 2771 entries, 0 to 2770\n",
      "Columns: 120 entries, index to fuel_level\n",
      "dtypes: datetime64[ns](1), float64(106), int64(9), object(4)\n",
      "memory usage: 2.5+ MB\n"
     ]
    }
   ],
   "source": [
    "data.info()"
   ]
  },
  {
   "cell_type": "code",
   "execution_count": 54,
   "metadata": {
    "ExecuteTime": {
     "end_time": "2020-07-02T21:33:58.620346Z",
     "start_time": "2020-07-02T21:33:58.565201Z"
    }
   },
   "outputs": [
    {
     "data": {
      "text/html": [
       "<div>\n",
       "<style scoped>\n",
       "    .dataframe tbody tr th:only-of-type {\n",
       "        vertical-align: middle;\n",
       "    }\n",
       "\n",
       "    .dataframe tbody tr th {\n",
       "        vertical-align: top;\n",
       "    }\n",
       "\n",
       "    .dataframe thead th {\n",
       "        text-align: right;\n",
       "    }\n",
       "</style>\n",
       "<table border=\"1\" class=\"dataframe\">\n",
       "  <thead>\n",
       "    <tr style=\"text-align: right;\">\n",
       "      <th></th>\n",
       "      <th>index</th>\n",
       "      <th>S_No</th>\n",
       "      <th>obu_id</th>\n",
       "      <th>obu_timestamp</th>\n",
       "      <th>packet_sequence_id</th>\n",
       "      <th>p_frequency</th>\n",
       "      <th>latitude</th>\n",
       "      <th>longitude</th>\n",
       "      <th>altitude</th>\n",
       "      <th>heading</th>\n",
       "      <th>...</th>\n",
       "      <th>aft1_intake_nox</th>\n",
       "      <th>aft1_intake_nox_reading_stable</th>\n",
       "      <th>aft1_intermediate_gas</th>\n",
       "      <th>dpf1_regen_needed</th>\n",
       "      <th>low_adblue_level_warning</th>\n",
       "      <th>eng_requested_torque_limit</th>\n",
       "      <th>pf_actreginh_dueto</th>\n",
       "      <th>aftertreatment1_outlet_nox</th>\n",
       "      <th>vin</th>\n",
       "      <th>fuel_level</th>\n",
       "    </tr>\n",
       "  </thead>\n",
       "  <tbody>\n",
       "    <tr>\n",
       "      <th>2766</th>\n",
       "      <td>2766</td>\n",
       "      <td>2767</td>\n",
       "      <td>2001241034</td>\n",
       "      <td>2020-06-18 09:59:00</td>\n",
       "      <td>20590</td>\n",
       "      <td>6.0</td>\n",
       "      <td>12.403523</td>\n",
       "      <td>76.827287</td>\n",
       "      <td>704.64</td>\n",
       "      <td>0</td>\n",
       "      <td>...</td>\n",
       "      <td>255.5</td>\n",
       "      <td>1.0</td>\n",
       "      <td>0.3</td>\n",
       "      <td>0.0</td>\n",
       "      <td>0.0</td>\n",
       "      <td>-125.0</td>\n",
       "      <td>0.0</td>\n",
       "      <td>1.1</td>\n",
       "      <td>MB1ASGCC1LRFE0185</td>\n",
       "      <td>77.7</td>\n",
       "    </tr>\n",
       "    <tr>\n",
       "      <th>2767</th>\n",
       "      <td>2767</td>\n",
       "      <td>2768</td>\n",
       "      <td>2001241034</td>\n",
       "      <td>2020-06-18 09:59:00</td>\n",
       "      <td>20591</td>\n",
       "      <td>6.0</td>\n",
       "      <td>12.403342</td>\n",
       "      <td>76.827284</td>\n",
       "      <td>703.09</td>\n",
       "      <td>0</td>\n",
       "      <td>...</td>\n",
       "      <td>153.7</td>\n",
       "      <td>1.0</td>\n",
       "      <td>0.4</td>\n",
       "      <td>0.0</td>\n",
       "      <td>0.0</td>\n",
       "      <td>-125.0</td>\n",
       "      <td>0.0</td>\n",
       "      <td>3.0</td>\n",
       "      <td>MB1ASGCC1LRFE0185</td>\n",
       "      <td>77.7</td>\n",
       "    </tr>\n",
       "    <tr>\n",
       "      <th>2768</th>\n",
       "      <td>2768</td>\n",
       "      <td>2769</td>\n",
       "      <td>2001241034</td>\n",
       "      <td>2020-06-18 09:59:00</td>\n",
       "      <td>20592</td>\n",
       "      <td>6.0</td>\n",
       "      <td>12.403249</td>\n",
       "      <td>76.827276</td>\n",
       "      <td>702.68</td>\n",
       "      <td>0</td>\n",
       "      <td>...</td>\n",
       "      <td>198.1</td>\n",
       "      <td>1.0</td>\n",
       "      <td>0.4</td>\n",
       "      <td>0.0</td>\n",
       "      <td>0.0</td>\n",
       "      <td>-125.0</td>\n",
       "      <td>0.0</td>\n",
       "      <td>-0.3</td>\n",
       "      <td>MB1ASGCC1LRFE0185</td>\n",
       "      <td>77.7</td>\n",
       "    </tr>\n",
       "    <tr>\n",
       "      <th>2769</th>\n",
       "      <td>2769</td>\n",
       "      <td>2770</td>\n",
       "      <td>2001241034</td>\n",
       "      <td>2020-06-18 09:59:00</td>\n",
       "      <td>20593</td>\n",
       "      <td>6.0</td>\n",
       "      <td>12.403229</td>\n",
       "      <td>76.827271</td>\n",
       "      <td>701.38</td>\n",
       "      <td>0</td>\n",
       "      <td>...</td>\n",
       "      <td>213.1</td>\n",
       "      <td>1.0</td>\n",
       "      <td>0.3</td>\n",
       "      <td>0.0</td>\n",
       "      <td>0.0</td>\n",
       "      <td>-125.0</td>\n",
       "      <td>0.0</td>\n",
       "      <td>0.1</td>\n",
       "      <td>MB1ASGCC1LRFE0185</td>\n",
       "      <td>77.7</td>\n",
       "    </tr>\n",
       "    <tr>\n",
       "      <th>2770</th>\n",
       "      <td>2770</td>\n",
       "      <td>2771</td>\n",
       "      <td>2001241034</td>\n",
       "      <td>2020-06-18 09:59:00</td>\n",
       "      <td>20594</td>\n",
       "      <td>6.0</td>\n",
       "      <td>12.403220</td>\n",
       "      <td>76.827241</td>\n",
       "      <td>700.60</td>\n",
       "      <td>0</td>\n",
       "      <td>...</td>\n",
       "      <td>216.2</td>\n",
       "      <td>1.0</td>\n",
       "      <td>0.3</td>\n",
       "      <td>0.0</td>\n",
       "      <td>0.0</td>\n",
       "      <td>-125.0</td>\n",
       "      <td>0.0</td>\n",
       "      <td>0.6</td>\n",
       "      <td>MB1ASGCC1LRFE0185</td>\n",
       "      <td>77.7</td>\n",
       "    </tr>\n",
       "  </tbody>\n",
       "</table>\n",
       "<p>5 rows × 120 columns</p>\n",
       "</div>"
      ],
      "text/plain": [
       "      index  S_No      obu_id       obu_timestamp  packet_sequence_id  \\\n",
       "2766   2766  2767  2001241034 2020-06-18 09:59:00               20590   \n",
       "2767   2767  2768  2001241034 2020-06-18 09:59:00               20591   \n",
       "2768   2768  2769  2001241034 2020-06-18 09:59:00               20592   \n",
       "2769   2769  2770  2001241034 2020-06-18 09:59:00               20593   \n",
       "2770   2770  2771  2001241034 2020-06-18 09:59:00               20594   \n",
       "\n",
       "      p_frequency   latitude  longitude  altitude  heading  ...  \\\n",
       "2766          6.0  12.403523  76.827287    704.64        0  ...   \n",
       "2767          6.0  12.403342  76.827284    703.09        0  ...   \n",
       "2768          6.0  12.403249  76.827276    702.68        0  ...   \n",
       "2769          6.0  12.403229  76.827271    701.38        0  ...   \n",
       "2770          6.0  12.403220  76.827241    700.60        0  ...   \n",
       "\n",
       "     aft1_intake_nox  aft1_intake_nox_reading_stable  aft1_intermediate_gas  \\\n",
       "2766           255.5                             1.0                    0.3   \n",
       "2767           153.7                             1.0                    0.4   \n",
       "2768           198.1                             1.0                    0.4   \n",
       "2769           213.1                             1.0                    0.3   \n",
       "2770           216.2                             1.0                    0.3   \n",
       "\n",
       "     dpf1_regen_needed  low_adblue_level_warning eng_requested_torque_limit  \\\n",
       "2766               0.0                       0.0                     -125.0   \n",
       "2767               0.0                       0.0                     -125.0   \n",
       "2768               0.0                       0.0                     -125.0   \n",
       "2769               0.0                       0.0                     -125.0   \n",
       "2770               0.0                       0.0                     -125.0   \n",
       "\n",
       "      pf_actreginh_dueto  aftertreatment1_outlet_nox                vin  \\\n",
       "2766                 0.0                         1.1  MB1ASGCC1LRFE0185   \n",
       "2767                 0.0                         3.0  MB1ASGCC1LRFE0185   \n",
       "2768                 0.0                        -0.3  MB1ASGCC1LRFE0185   \n",
       "2769                 0.0                         0.1  MB1ASGCC1LRFE0185   \n",
       "2770                 0.0                         0.6  MB1ASGCC1LRFE0185   \n",
       "\n",
       "      fuel_level  \n",
       "2766        77.7  \n",
       "2767        77.7  \n",
       "2768        77.7  \n",
       "2769        77.7  \n",
       "2770        77.7  \n",
       "\n",
       "[5 rows x 120 columns]"
      ]
     },
     "execution_count": 54,
     "metadata": {},
     "output_type": "execute_result"
    }
   ],
   "source": [
    "data.tail(5)"
   ]
  },
  {
   "cell_type": "code",
   "execution_count": 55,
   "metadata": {
    "ExecuteTime": {
     "end_time": "2020-07-02T21:33:58.757683Z",
     "start_time": "2020-07-02T21:33:58.749664Z"
    }
   },
   "outputs": [
    {
     "data": {
      "text/plain": [
       "1    2266\n",
       "0     505\n",
       "Name: ignition_status, dtype: int64"
      ]
     },
     "execution_count": 55,
     "metadata": {},
     "output_type": "execute_result"
    }
   ],
   "source": [
    "data['ignition_status'].value_counts()"
   ]
  },
  {
   "cell_type": "code",
   "execution_count": 56,
   "metadata": {
    "ExecuteTime": {
     "end_time": "2020-07-02T21:33:58.925318Z",
     "start_time": "2020-07-02T21:33:58.922313Z"
    }
   },
   "outputs": [],
   "source": [
    "#from IPython.core.debugger import set_trace"
   ]
  },
  {
   "cell_type": "code",
   "execution_count": 66,
   "metadata": {
    "ExecuteTime": {
     "end_time": "2020-07-02T21:39:25.112242Z",
     "start_time": "2020-07-02T21:39:21.902708Z"
    },
    "code_folding": [],
    "scrolled": false
   },
   "outputs": [
    {
     "name": "stdout",
     "output_type": "stream",
     "text": [
      "[[1, 0, 97], [2, 108, 124], [3, 144, 179], [4, 199, 264], [5, 284, 419], [6, 439, 497], [7, 517, 636], [8, 657, 659], [9, 679, 830], [10, 850, 981], [11, 1001, 1225], [12, 1245, 1286], [13, 1306, 1311], [14, 1331, 1358], [15, 1378, 1531], [16, 1551, 1777], [17, 1798, 1831], [18, 1851, 1878], [19, 1898, 1958], [20, 1978, 2027], [21, 2039, 2114], [22, 2134, 2135], [23, 2155, 2176], [24, 2196, 2394], [25, 2414, 2622], [26, 2642, 2679]]\n"
     ]
    }
   ],
   "source": [
    "trip_id=1\n",
    "Trip_info=[]\n",
    "start_index=0\n",
    "stop_index=0\n",
    "rows=0\n",
    "x=0\n",
    "for rows in data.index:\n",
    "    \n",
    "        for rows in data.index[start_index:]:\n",
    "            #set_trace()\n",
    "            if(data['ignition_status'].iloc[rows]== 1):\n",
    "                start_index=data['index'].iloc[rows]\n",
    "                for x in data.index[rows:]:\n",
    "                    if(data['ignition_status'].iloc[x]==0):\n",
    "                        stop_index = data['index'].iloc[x]\n",
    "                        break\n",
    "                if(start_index<=stop_index):\n",
    "                    Trip_info_temp=[trip_id,start_index,stop_index]\n",
    "                    Trip_info.append(Trip_info_temp)\n",
    "                    start_index=stop_index\n",
    "                    trip_id +=1\n",
    "                else:\n",
    "                    break\n",
    "                break\n",
    "\n",
    "print(Trip_info)\n"
   ]
  },
  {
   "cell_type": "code",
   "execution_count": 67,
   "metadata": {
    "ExecuteTime": {
     "end_time": "2020-07-02T21:39:25.123272Z",
     "start_time": "2020-07-02T21:39:25.115251Z"
    }
   },
   "outputs": [],
   "source": [
    "Trip_info_1=pd.DataFrame(Trip_info,columns=['Trip_ID',\"Start_index\",\"Stop_index\"])"
   ]
  },
  {
   "cell_type": "code",
   "execution_count": 68,
   "metadata": {
    "ExecuteTime": {
     "end_time": "2020-07-02T21:39:25.242590Z",
     "start_time": "2020-07-02T21:39:25.130292Z"
    }
   },
   "outputs": [
    {
     "data": {
      "text/html": [
       "<div>\n",
       "<style scoped>\n",
       "    .dataframe tbody tr th:only-of-type {\n",
       "        vertical-align: middle;\n",
       "    }\n",
       "\n",
       "    .dataframe tbody tr th {\n",
       "        vertical-align: top;\n",
       "    }\n",
       "\n",
       "    .dataframe thead th {\n",
       "        text-align: right;\n",
       "    }\n",
       "</style>\n",
       "<table border=\"1\" class=\"dataframe\">\n",
       "  <thead>\n",
       "    <tr style=\"text-align: right;\">\n",
       "      <th></th>\n",
       "      <th>Trip_ID</th>\n",
       "      <th>Start_index</th>\n",
       "      <th>Stop_index</th>\n",
       "    </tr>\n",
       "  </thead>\n",
       "  <tbody>\n",
       "    <tr>\n",
       "      <th>0</th>\n",
       "      <td>1</td>\n",
       "      <td>0</td>\n",
       "      <td>97</td>\n",
       "    </tr>\n",
       "    <tr>\n",
       "      <th>1</th>\n",
       "      <td>2</td>\n",
       "      <td>108</td>\n",
       "      <td>124</td>\n",
       "    </tr>\n",
       "    <tr>\n",
       "      <th>2</th>\n",
       "      <td>3</td>\n",
       "      <td>144</td>\n",
       "      <td>179</td>\n",
       "    </tr>\n",
       "    <tr>\n",
       "      <th>3</th>\n",
       "      <td>4</td>\n",
       "      <td>199</td>\n",
       "      <td>264</td>\n",
       "    </tr>\n",
       "    <tr>\n",
       "      <th>4</th>\n",
       "      <td>5</td>\n",
       "      <td>284</td>\n",
       "      <td>419</td>\n",
       "    </tr>\n",
       "    <tr>\n",
       "      <th>5</th>\n",
       "      <td>6</td>\n",
       "      <td>439</td>\n",
       "      <td>497</td>\n",
       "    </tr>\n",
       "    <tr>\n",
       "      <th>6</th>\n",
       "      <td>7</td>\n",
       "      <td>517</td>\n",
       "      <td>636</td>\n",
       "    </tr>\n",
       "    <tr>\n",
       "      <th>7</th>\n",
       "      <td>8</td>\n",
       "      <td>657</td>\n",
       "      <td>659</td>\n",
       "    </tr>\n",
       "    <tr>\n",
       "      <th>8</th>\n",
       "      <td>9</td>\n",
       "      <td>679</td>\n",
       "      <td>830</td>\n",
       "    </tr>\n",
       "    <tr>\n",
       "      <th>9</th>\n",
       "      <td>10</td>\n",
       "      <td>850</td>\n",
       "      <td>981</td>\n",
       "    </tr>\n",
       "    <tr>\n",
       "      <th>10</th>\n",
       "      <td>11</td>\n",
       "      <td>1001</td>\n",
       "      <td>1225</td>\n",
       "    </tr>\n",
       "    <tr>\n",
       "      <th>11</th>\n",
       "      <td>12</td>\n",
       "      <td>1245</td>\n",
       "      <td>1286</td>\n",
       "    </tr>\n",
       "    <tr>\n",
       "      <th>12</th>\n",
       "      <td>13</td>\n",
       "      <td>1306</td>\n",
       "      <td>1311</td>\n",
       "    </tr>\n",
       "    <tr>\n",
       "      <th>13</th>\n",
       "      <td>14</td>\n",
       "      <td>1331</td>\n",
       "      <td>1358</td>\n",
       "    </tr>\n",
       "    <tr>\n",
       "      <th>14</th>\n",
       "      <td>15</td>\n",
       "      <td>1378</td>\n",
       "      <td>1531</td>\n",
       "    </tr>\n",
       "    <tr>\n",
       "      <th>15</th>\n",
       "      <td>16</td>\n",
       "      <td>1551</td>\n",
       "      <td>1777</td>\n",
       "    </tr>\n",
       "    <tr>\n",
       "      <th>16</th>\n",
       "      <td>17</td>\n",
       "      <td>1798</td>\n",
       "      <td>1831</td>\n",
       "    </tr>\n",
       "    <tr>\n",
       "      <th>17</th>\n",
       "      <td>18</td>\n",
       "      <td>1851</td>\n",
       "      <td>1878</td>\n",
       "    </tr>\n",
       "    <tr>\n",
       "      <th>18</th>\n",
       "      <td>19</td>\n",
       "      <td>1898</td>\n",
       "      <td>1958</td>\n",
       "    </tr>\n",
       "    <tr>\n",
       "      <th>19</th>\n",
       "      <td>20</td>\n",
       "      <td>1978</td>\n",
       "      <td>2027</td>\n",
       "    </tr>\n",
       "    <tr>\n",
       "      <th>20</th>\n",
       "      <td>21</td>\n",
       "      <td>2039</td>\n",
       "      <td>2114</td>\n",
       "    </tr>\n",
       "    <tr>\n",
       "      <th>21</th>\n",
       "      <td>22</td>\n",
       "      <td>2134</td>\n",
       "      <td>2135</td>\n",
       "    </tr>\n",
       "    <tr>\n",
       "      <th>22</th>\n",
       "      <td>23</td>\n",
       "      <td>2155</td>\n",
       "      <td>2176</td>\n",
       "    </tr>\n",
       "    <tr>\n",
       "      <th>23</th>\n",
       "      <td>24</td>\n",
       "      <td>2196</td>\n",
       "      <td>2394</td>\n",
       "    </tr>\n",
       "    <tr>\n",
       "      <th>24</th>\n",
       "      <td>25</td>\n",
       "      <td>2414</td>\n",
       "      <td>2622</td>\n",
       "    </tr>\n",
       "    <tr>\n",
       "      <th>25</th>\n",
       "      <td>26</td>\n",
       "      <td>2642</td>\n",
       "      <td>2679</td>\n",
       "    </tr>\n",
       "  </tbody>\n",
       "</table>\n",
       "</div>"
      ],
      "text/plain": [
       "    Trip_ID  Start_index  Stop_index\n",
       "0         1            0          97\n",
       "1         2          108         124\n",
       "2         3          144         179\n",
       "3         4          199         264\n",
       "4         5          284         419\n",
       "5         6          439         497\n",
       "6         7          517         636\n",
       "7         8          657         659\n",
       "8         9          679         830\n",
       "9        10          850         981\n",
       "10       11         1001        1225\n",
       "11       12         1245        1286\n",
       "12       13         1306        1311\n",
       "13       14         1331        1358\n",
       "14       15         1378        1531\n",
       "15       16         1551        1777\n",
       "16       17         1798        1831\n",
       "17       18         1851        1878\n",
       "18       19         1898        1958\n",
       "19       20         1978        2027\n",
       "20       21         2039        2114\n",
       "21       22         2134        2135\n",
       "22       23         2155        2176\n",
       "23       24         2196        2394\n",
       "24       25         2414        2622\n",
       "25       26         2642        2679"
      ]
     },
     "execution_count": 68,
     "metadata": {},
     "output_type": "execute_result"
    }
   ],
   "source": [
    "Trip_info_1"
   ]
  },
  {
   "cell_type": "code",
   "execution_count": null,
   "metadata": {},
   "outputs": [],
   "source": []
  }
 ],
 "metadata": {
  "kernelspec": {
   "display_name": "Python 3",
   "language": "python",
   "name": "python3"
  },
  "language_info": {
   "codemirror_mode": {
    "name": "ipython",
    "version": 3
   },
   "file_extension": ".py",
   "mimetype": "text/x-python",
   "name": "python",
   "nbconvert_exporter": "python",
   "pygments_lexer": "ipython3",
   "version": "3.6.5"
  }
 },
 "nbformat": 4,
 "nbformat_minor": 2
}
