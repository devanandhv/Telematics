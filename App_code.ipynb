{
 "cells": [
  {
   "cell_type": "code",
   "execution_count": 39,
   "metadata": {
    "ExecuteTime": {
     "end_time": "2020-07-04T11:23:09.067859Z",
     "start_time": "2020-07-04T11:23:06.742945Z"
    }
   },
   "outputs": [],
   "source": [
    "# Basic libraries import\n",
    "import pandas as pd\n",
    "import numpy as np\n",
    "import seaborn as sns\n",
    "import matplotlib.pyplot as plt\n",
    "%matplotlib inline"
   ]
  },
  {
   "cell_type": "code",
   "execution_count": 40,
   "metadata": {
    "ExecuteTime": {
     "end_time": "2020-07-04T11:23:10.738755Z",
     "start_time": "2020-07-04T11:23:10.631241Z"
    }
   },
   "outputs": [],
   "source": [
    "# tkinter GUI import\n",
    "import tkinter as tk1\n",
    "from tkinter.filedialog import askopenfilename"
   ]
  },
  {
   "cell_type": "code",
   "execution_count": 41,
   "metadata": {
    "ExecuteTime": {
     "end_time": "2020-07-04T11:23:11.672768Z",
     "start_time": "2020-07-04T11:23:11.655718Z"
    }
   },
   "outputs": [],
   "source": [
    "# Debugger import library if required\n",
    "from IPython.core.debugger import set_trace"
   ]
  },
  {
   "cell_type": "code",
   "execution_count": 42,
   "metadata": {
    "ExecuteTime": {
     "end_time": "2020-07-04T11:23:19.680886Z",
     "start_time": "2020-07-04T11:23:12.593065Z"
    }
   },
   "outputs": [],
   "source": [
    "# Import filename interactively\n",
    "root = tk1.Tk()\n",
    "#root.lift()\n",
    "root.attributes(\"-topmost\", True)\n",
    "root.withdraw()\n",
    "filename = askopenfilename()\n",
    "root.destroy()"
   ]
  },
  {
   "cell_type": "code",
   "execution_count": 43,
   "metadata": {
    "ExecuteTime": {
     "end_time": "2020-07-04T11:23:25.945978Z",
     "start_time": "2020-07-04T11:23:23.762935Z"
    }
   },
   "outputs": [],
   "source": [
    "# Read the raw dataframe and read 'obu_timestamp' column as datetime format\n",
    "data = pd.read_csv(filename,\n",
    "                   parse_dates=['obu_timestamp'])"
   ]
  },
  {
   "cell_type": "code",
   "execution_count": 44,
   "metadata": {
    "ExecuteTime": {
     "end_time": "2020-07-04T11:23:26.505947Z",
     "start_time": "2020-07-04T11:23:26.000135Z"
    }
   },
   "outputs": [],
   "source": [
    "# Add an index column to the created dataframe\n",
    "data.reset_index(level=0, inplace=True)"
   ]
  },
  {
   "cell_type": "code",
   "execution_count": 45,
   "metadata": {
    "ExecuteTime": {
     "end_time": "2020-07-04T11:23:26.830484Z",
     "start_time": "2020-07-04T11:23:26.560087Z"
    }
   },
   "outputs": [
    {
     "name": "stdout",
     "output_type": "stream",
     "text": [
      "<class 'pandas.core.frame.DataFrame'>\n",
      "RangeIndex: 7357 entries, 0 to 7356\n",
      "Columns: 120 entries, index to fuel_level\n",
      "dtypes: datetime64[ns](1), float64(107), int64(8), object(4)\n",
      "memory usage: 6.7+ MB\n"
     ]
    }
   ],
   "source": [
    "# Verify dataframe dtypes and column entries\n",
    "data.info()"
   ]
  },
  {
   "cell_type": "code",
   "execution_count": 46,
   "metadata": {
    "ExecuteTime": {
     "end_time": "2020-07-04T11:23:27.359807Z",
     "start_time": "2020-07-04T11:23:26.883626Z"
    }
   },
   "outputs": [
    {
     "data": {
      "text/html": [
       "<div>\n",
       "<style scoped>\n",
       "    .dataframe tbody tr th:only-of-type {\n",
       "        vertical-align: middle;\n",
       "    }\n",
       "\n",
       "    .dataframe tbody tr th {\n",
       "        vertical-align: top;\n",
       "    }\n",
       "\n",
       "    .dataframe thead th {\n",
       "        text-align: right;\n",
       "    }\n",
       "</style>\n",
       "<table border=\"1\" class=\"dataframe\">\n",
       "  <thead>\n",
       "    <tr style=\"text-align: right;\">\n",
       "      <th></th>\n",
       "      <th>index</th>\n",
       "      <th>S_No</th>\n",
       "      <th>obu_id</th>\n",
       "      <th>obu_timestamp</th>\n",
       "      <th>packet_sequence_id</th>\n",
       "      <th>p_frequency</th>\n",
       "      <th>latitude</th>\n",
       "      <th>longitude</th>\n",
       "      <th>altitude</th>\n",
       "      <th>heading</th>\n",
       "      <th>...</th>\n",
       "      <th>aft1_intake_nox</th>\n",
       "      <th>aft1_intake_nox_reading_stable</th>\n",
       "      <th>aft1_intermediate_gas</th>\n",
       "      <th>dpf1_regen_needed</th>\n",
       "      <th>low_adblue_level_warning</th>\n",
       "      <th>eng_requested_torque_limit</th>\n",
       "      <th>pf_actreginh_dueto</th>\n",
       "      <th>aftertreatment1_outlet_nox</th>\n",
       "      <th>vin</th>\n",
       "      <th>fuel_level</th>\n",
       "    </tr>\n",
       "  </thead>\n",
       "  <tbody>\n",
       "    <tr>\n",
       "      <th>0</th>\n",
       "      <td>0</td>\n",
       "      <td>1</td>\n",
       "      <td>1911271039</td>\n",
       "      <td>2020-06-22 02:57:20</td>\n",
       "      <td>0</td>\n",
       "      <td>NaN</td>\n",
       "      <td>22.482629</td>\n",
       "      <td>70.048222</td>\n",
       "      <td>0.00</td>\n",
       "      <td>0.0</td>\n",
       "      <td>...</td>\n",
       "      <td>NaN</td>\n",
       "      <td>NaN</td>\n",
       "      <td>NaN</td>\n",
       "      <td>NaN</td>\n",
       "      <td>NaN</td>\n",
       "      <td>NaN</td>\n",
       "      <td>NaN</td>\n",
       "      <td>NaN</td>\n",
       "      <td>MB1A3GCDXLRFE0093</td>\n",
       "      <td>NaN</td>\n",
       "    </tr>\n",
       "    <tr>\n",
       "      <th>1</th>\n",
       "      <td>1</td>\n",
       "      <td>2</td>\n",
       "      <td>1911271039</td>\n",
       "      <td>2020-06-22 08:39:24</td>\n",
       "      <td>36193</td>\n",
       "      <td>6.0</td>\n",
       "      <td>22.482629</td>\n",
       "      <td>70.048222</td>\n",
       "      <td>24.51</td>\n",
       "      <td>0.0</td>\n",
       "      <td>...</td>\n",
       "      <td>3012.8</td>\n",
       "      <td>3.0</td>\n",
       "      <td>0.2</td>\n",
       "      <td>0.0</td>\n",
       "      <td>0.0</td>\n",
       "      <td>-125.0</td>\n",
       "      <td>0.0</td>\n",
       "      <td>0.0</td>\n",
       "      <td>MB1A3GCDXLRFE0093</td>\n",
       "      <td>159.1</td>\n",
       "    </tr>\n",
       "    <tr>\n",
       "      <th>2</th>\n",
       "      <td>2</td>\n",
       "      <td>3</td>\n",
       "      <td>1911271039</td>\n",
       "      <td>2020-06-22 08:39:30</td>\n",
       "      <td>36194</td>\n",
       "      <td>6.0</td>\n",
       "      <td>22.482629</td>\n",
       "      <td>70.048222</td>\n",
       "      <td>24.51</td>\n",
       "      <td>0.0</td>\n",
       "      <td>...</td>\n",
       "      <td>3012.8</td>\n",
       "      <td>3.0</td>\n",
       "      <td>0.2</td>\n",
       "      <td>0.0</td>\n",
       "      <td>0.0</td>\n",
       "      <td>-125.0</td>\n",
       "      <td>0.0</td>\n",
       "      <td>0.0</td>\n",
       "      <td>MB1A3GCDXLRFE0093</td>\n",
       "      <td>159.1</td>\n",
       "    </tr>\n",
       "    <tr>\n",
       "      <th>3</th>\n",
       "      <td>3</td>\n",
       "      <td>4</td>\n",
       "      <td>1911271039</td>\n",
       "      <td>2020-06-22 08:39:36</td>\n",
       "      <td>36195</td>\n",
       "      <td>6.0</td>\n",
       "      <td>22.482629</td>\n",
       "      <td>70.048222</td>\n",
       "      <td>24.51</td>\n",
       "      <td>0.0</td>\n",
       "      <td>...</td>\n",
       "      <td>3012.8</td>\n",
       "      <td>3.0</td>\n",
       "      <td>0.2</td>\n",
       "      <td>0.0</td>\n",
       "      <td>0.0</td>\n",
       "      <td>-125.0</td>\n",
       "      <td>0.0</td>\n",
       "      <td>0.0</td>\n",
       "      <td>MB1A3GCDXLRFE0093</td>\n",
       "      <td>159.1</td>\n",
       "    </tr>\n",
       "    <tr>\n",
       "      <th>4</th>\n",
       "      <td>4</td>\n",
       "      <td>5</td>\n",
       "      <td>1911271039</td>\n",
       "      <td>2020-06-22 08:39:42</td>\n",
       "      <td>36196</td>\n",
       "      <td>6.0</td>\n",
       "      <td>22.482629</td>\n",
       "      <td>70.048222</td>\n",
       "      <td>24.51</td>\n",
       "      <td>0.0</td>\n",
       "      <td>...</td>\n",
       "      <td>3012.8</td>\n",
       "      <td>3.0</td>\n",
       "      <td>0.2</td>\n",
       "      <td>0.0</td>\n",
       "      <td>0.0</td>\n",
       "      <td>-125.0</td>\n",
       "      <td>0.0</td>\n",
       "      <td>0.0</td>\n",
       "      <td>MB1A3GCDXLRFE0093</td>\n",
       "      <td>159.1</td>\n",
       "    </tr>\n",
       "  </tbody>\n",
       "</table>\n",
       "<p>5 rows × 120 columns</p>\n",
       "</div>"
      ],
      "text/plain": [
       "   index  S_No      obu_id       obu_timestamp  packet_sequence_id  \\\n",
       "0      0     1  1911271039 2020-06-22 02:57:20                   0   \n",
       "1      1     2  1911271039 2020-06-22 08:39:24               36193   \n",
       "2      2     3  1911271039 2020-06-22 08:39:30               36194   \n",
       "3      3     4  1911271039 2020-06-22 08:39:36               36195   \n",
       "4      4     5  1911271039 2020-06-22 08:39:42               36196   \n",
       "\n",
       "   p_frequency   latitude  longitude  altitude  heading  ... aft1_intake_nox  \\\n",
       "0          NaN  22.482629  70.048222      0.00      0.0  ...             NaN   \n",
       "1          6.0  22.482629  70.048222     24.51      0.0  ...          3012.8   \n",
       "2          6.0  22.482629  70.048222     24.51      0.0  ...          3012.8   \n",
       "3          6.0  22.482629  70.048222     24.51      0.0  ...          3012.8   \n",
       "4          6.0  22.482629  70.048222     24.51      0.0  ...          3012.8   \n",
       "\n",
       "   aft1_intake_nox_reading_stable  aft1_intermediate_gas dpf1_regen_needed  \\\n",
       "0                             NaN                    NaN               NaN   \n",
       "1                             3.0                    0.2               0.0   \n",
       "2                             3.0                    0.2               0.0   \n",
       "3                             3.0                    0.2               0.0   \n",
       "4                             3.0                    0.2               0.0   \n",
       "\n",
       "   low_adblue_level_warning eng_requested_torque_limit  pf_actreginh_dueto  \\\n",
       "0                       NaN                        NaN                 NaN   \n",
       "1                       0.0                     -125.0                 0.0   \n",
       "2                       0.0                     -125.0                 0.0   \n",
       "3                       0.0                     -125.0                 0.0   \n",
       "4                       0.0                     -125.0                 0.0   \n",
       "\n",
       "   aftertreatment1_outlet_nox                vin  fuel_level  \n",
       "0                         NaN  MB1A3GCDXLRFE0093         NaN  \n",
       "1                         0.0  MB1A3GCDXLRFE0093       159.1  \n",
       "2                         0.0  MB1A3GCDXLRFE0093       159.1  \n",
       "3                         0.0  MB1A3GCDXLRFE0093       159.1  \n",
       "4                         0.0  MB1A3GCDXLRFE0093       159.1  \n",
       "\n",
       "[5 rows x 120 columns]"
      ]
     },
     "execution_count": 46,
     "metadata": {},
     "output_type": "execute_result"
    }
   ],
   "source": [
    "# Peep into the first 5 lines of data\n",
    "data.head(5)"
   ]
  },
  {
   "cell_type": "code",
   "execution_count": 47,
   "metadata": {
    "ExecuteTime": {
     "end_time": "2020-07-04T11:23:27.664940Z",
     "start_time": "2020-07-04T11:23:27.564863Z"
    }
   },
   "outputs": [
    {
     "data": {
      "text/plain": [
       "1    7073\n",
       "0     284\n",
       "Name: ignition_status, dtype: int64"
      ]
     },
     "execution_count": 47,
     "metadata": {},
     "output_type": "execute_result"
    }
   ],
   "source": [
    "# Check total instances of Igntion On and OFF\n",
    "data['ignition_status'].value_counts()"
   ]
  },
  {
   "cell_type": "code",
   "execution_count": 48,
   "metadata": {
    "ExecuteTime": {
     "end_time": "2020-07-04T11:23:30.846963Z",
     "start_time": "2020-07-04T11:23:28.323164Z"
    },
    "code_folding": [],
    "scrolled": false
   },
   "outputs": [
    {
     "name": "stdout",
     "output_type": "stream",
     "text": [
      "[[1, 1, 35], [2, 55, 60], [3, 80, 91], [4, 112, 119], [5, 139, 590], [6, 610, 2019], [7, 2039, 3300], [8, 3321, 3322], [9, 3342, 3720], [10, 3740, 3764], [11, 3784, 4467], [12, 4487, 5123], [13, 5143, 6759], [14, 6780, 7337]]\n"
     ]
    }
   ],
   "source": [
    "#-----------------------------\n",
    "### No. of trips extractor \n",
    "\n",
    "# Variable initilization\n",
    "trip_id = 1 \n",
    "trip_info_list = [] \n",
    "start_index = 0 \n",
    "stop_index = 0 \n",
    "rows = 0 \n",
    "x = 0 \n",
    "\n",
    "for rows in data.index: # loops through entire dataframe based on size\n",
    "    \n",
    "        for rows in data.index[start_index:]:          # Loop through the subdataframe starting with the latest start index\n",
    "            #set_trace()                               # Debugging sequence if reqd remove '#' and run for line by line debugging\n",
    "            if(data['ignition_status'].iloc[rows] == 1): # Enter loop if Ingition ON is detected\n",
    "                start_index = data['index'].iloc[rows]   # Assign the first index of satisfied condition for Ignition ON\n",
    "                for x in data.index[rows:]:              # For this loop sequence determining the next instance of Ignition OFF\n",
    "                    if(data['ignition_status'].iloc[x] == 0): # Stop at instance when Ignition is detected OFF\n",
    "                        stop_index = data['index'].iloc[x]    # Store the index as latest stop index\n",
    "                        break \n",
    "                if(start_index<=stop_index):                  # Proceed only if stop index is greater than start index\n",
    "                    trip_info_temp=[trip_id,start_index,stop_index] # Temporary row list containing parameters\n",
    "                    trip_info_list.append(trip_info_temp)     # Append to the trip info list\n",
    "                    start_index=stop_index                   # Assign the latest stop index as the next start index to initiate next subdataframe\n",
    "                    trip_id +=1 \n",
    "                else:                                        # Force exit the entire loop, if start index greater than stop index, indicating the source dataframe does not end with Ignition OFF\n",
    "                    break\n",
    "                break \n",
    "\n",
    "print(trip_info_list)  # list all trip info in the current dataset\n",
    "\n",
    "# ---------------------------"
   ]
  },
  {
   "cell_type": "code",
   "execution_count": 49,
   "metadata": {
    "ExecuteTime": {
     "end_time": "2020-07-04T11:23:30.930387Z",
     "start_time": "2020-07-04T11:23:30.900125Z"
    }
   },
   "outputs": [],
   "source": [
    "trip_info_df = pd.DataFrame(trip_info_list,\n",
    "                            columns=['Trip_ID', \"Start_index\", \"Stop_index\"\n",
    "                                     ])  # Convert list to dataframe"
   ]
  },
  {
   "cell_type": "code",
   "execution_count": 50,
   "metadata": {
    "ExecuteTime": {
     "end_time": "2020-07-04T11:23:31.065228Z",
     "start_time": "2020-07-04T11:23:30.984367Z"
    }
   },
   "outputs": [
    {
     "data": {
      "text/html": [
       "<div>\n",
       "<style scoped>\n",
       "    .dataframe tbody tr th:only-of-type {\n",
       "        vertical-align: middle;\n",
       "    }\n",
       "\n",
       "    .dataframe tbody tr th {\n",
       "        vertical-align: top;\n",
       "    }\n",
       "\n",
       "    .dataframe thead th {\n",
       "        text-align: right;\n",
       "    }\n",
       "</style>\n",
       "<table border=\"1\" class=\"dataframe\">\n",
       "  <thead>\n",
       "    <tr style=\"text-align: right;\">\n",
       "      <th></th>\n",
       "      <th>Trip_ID</th>\n",
       "      <th>Start_index</th>\n",
       "      <th>Stop_index</th>\n",
       "    </tr>\n",
       "  </thead>\n",
       "  <tbody>\n",
       "    <tr>\n",
       "      <th>0</th>\n",
       "      <td>1</td>\n",
       "      <td>1</td>\n",
       "      <td>35</td>\n",
       "    </tr>\n",
       "    <tr>\n",
       "      <th>1</th>\n",
       "      <td>2</td>\n",
       "      <td>55</td>\n",
       "      <td>60</td>\n",
       "    </tr>\n",
       "    <tr>\n",
       "      <th>2</th>\n",
       "      <td>3</td>\n",
       "      <td>80</td>\n",
       "      <td>91</td>\n",
       "    </tr>\n",
       "    <tr>\n",
       "      <th>3</th>\n",
       "      <td>4</td>\n",
       "      <td>112</td>\n",
       "      <td>119</td>\n",
       "    </tr>\n",
       "    <tr>\n",
       "      <th>4</th>\n",
       "      <td>5</td>\n",
       "      <td>139</td>\n",
       "      <td>590</td>\n",
       "    </tr>\n",
       "  </tbody>\n",
       "</table>\n",
       "</div>"
      ],
      "text/plain": [
       "   Trip_ID  Start_index  Stop_index\n",
       "0        1            1          35\n",
       "1        2           55          60\n",
       "2        3           80          91\n",
       "3        4          112         119\n",
       "4        5          139         590"
      ]
     },
     "execution_count": 50,
     "metadata": {},
     "output_type": "execute_result"
    }
   ],
   "source": [
    "trip_info_df.head(5) # Trip_info dataframe view"
   ]
  },
  {
   "cell_type": "code",
   "execution_count": 51,
   "metadata": {
    "ExecuteTime": {
     "end_time": "2020-07-04T11:23:31.202270Z",
     "start_time": "2020-07-04T11:23:31.119629Z"
    }
   },
   "outputs": [
    {
     "name": "stdout",
     "output_type": "stream",
     "text": [
      "Total trips undertaken: 14\n"
     ]
    }
   ],
   "source": [
    "print(\"Total trips undertaken:\", trip_info_df['Trip_ID'].count())"
   ]
  },
  {
   "cell_type": "code",
   "execution_count": 52,
   "metadata": {
    "ExecuteTime": {
     "end_time": "2020-07-04T11:23:32.249994Z",
     "start_time": "2020-07-04T11:23:32.162758Z"
    }
   },
   "outputs": [],
   "source": [
    "trip={}"
   ]
  },
  {
   "cell_type": "code",
   "execution_count": 53,
   "metadata": {
    "ExecuteTime": {
     "end_time": "2020-07-04T11:23:34.762123Z",
     "start_time": "2020-07-04T11:23:34.615834Z"
    }
   },
   "outputs": [],
   "source": [
    "# Generate new dataframes with trip[trip_ID] for each trip_ID\n",
    "for trips in trip_info_df.index:\n",
    "    #set_trace()\n",
    "    trip[trips] = data.iloc[trip_info_df.Start_index[trips]:trip_info_df.Stop_index[trips]]\n",
    "    trip[trips].reset_index(inplace=True)\n",
    "    trip[trips]= trip[trips].drop(axis=1,columns=['index','level_0'])"
   ]
  },
  {
   "cell_type": "code",
   "execution_count": 54,
   "metadata": {
    "ExecuteTime": {
     "end_time": "2020-07-04T11:23:37.062271Z",
     "start_time": "2020-07-04T11:23:37.027179Z"
    }
   },
   "outputs": [],
   "source": [
    "def plot_trip_info(df):\n",
    "    sns.pairplot(df,x_vars='wheel_based_speed',y_vars='engine_speed',hue='transmission_current_gear',size=5)\n",
    "    plt.title(\"Trip\")\n",
    "    plt.show()"
   ]
  },
  {
   "cell_type": "code",
   "execution_count": 55,
   "metadata": {
    "ExecuteTime": {
     "end_time": "2020-07-04T11:23:40.739528Z",
     "start_time": "2020-07-04T11:23:39.126286Z"
    }
   },
   "outputs": [
    {
     "data": {
      "image/png": "[encoded data removed]",
      "text/plain": [
       "<Figure size 501.25x360 with 1 Axes>"
      ]
     },
     "metadata": {},
     "output_type": "display_data"
    }
   ],
   "source": [
    "plot_trip_info(trip[4])"
   ]
  },
  {
   "cell_type": "code",
   "execution_count": null,
   "metadata": {},
   "outputs": [],
   "source": []
  }
 ],
 "metadata": {
  "kernelspec": {
   "display_name": "Python 3",
   "language": "python",
   "name": "python3"
  },
  "language_info": {
   "codemirror_mode": {
    "name": "ipython",
    "version": 3
   },
   "file_extension": ".py",
   "mimetype": "text/x-python",
   "name": "python",
   "nbconvert_exporter": "python",
   "pygments_lexer": "ipython3",
   "version": "3.6.5"
  }
 },
 "nbformat": 4,
 "nbformat_minor": 2
}
